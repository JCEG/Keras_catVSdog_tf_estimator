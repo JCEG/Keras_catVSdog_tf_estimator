{
 "cells": [
  {
   "cell_type": "markdown",
   "metadata": {},
   "source": [
    "## [How to leverage TensorFlow's TFRecord to train Keras model](https://www.dlology.com/blog/how-to-leverage-tensorflows-tfrecord-to-train-keras-model/)\n",
    "Import packages,\n",
    "realize how we import keras from tensorflow \n",
    "\n",
    "`tensorflow.keras`"
   ]
  },
  {
   "cell_type": "code",
   "execution_count": 1,
   "metadata": {
    "ExecuteTime": {
     "end_time": "2019-05-29T01:58:20.363538Z",
     "start_time": "2019-05-29T01:58:17.208748Z"
    }
   },
   "outputs": [
    {
     "data": {
      "text/plain": [
       "'1.13.1'"
      ]
     },
     "execution_count": 1,
     "metadata": {},
     "output_type": "execute_result"
    }
   ],
   "source": [
    "from tensorflow.keras.applications.vgg16 import VGG16\n",
    "from tensorflow.keras import models\n",
    "from tensorflow.keras import layers\n",
    "from tensorflow.keras.preprocessing import image\n",
    "import numpy as np\n",
    "import tensorflow as tf\n",
    "from tensorflow import keras\n",
    "import numpy as np\n",
    "import sys\n",
    "from PIL import Image\n",
    "import os\n",
    "import shutil\n",
    "\n",
    "tf.__version__"
   ]
  },
  {
   "cell_type": "markdown",
   "metadata": {},
   "source": [
    "## Build Keras model\n",
    "We are leveraging the pre-trained VGG16 model's convolution layers. aka the \"convolutional base\" of the model. Then we add our own classifier fully connected layers to do binary classification(cat vs dog). \n",
    "\n",
    "Note that since we don't want to touch the parameters pre-trained in the \"convolutional base\", so we set them as not trainable. Want to go deeper how this model works? Check out this great [jupyter notebook](https://github.com/fchollet/deep-learning-with-python-notebooks/blob/master/5.3-using-a-pretrained-convnet.ipynb) by the creator of Keras."
   ]
  },
  {
   "cell_type": "code",
   "execution_count": 2,
   "metadata": {
    "ExecuteTime": {
     "end_time": "2019-05-29T01:59:02.461323Z",
     "start_time": "2019-05-29T01:58:59.659919Z"
    }
   },
   "outputs": [
    {
     "name": "stdout",
     "output_type": "stream",
     "text": [
      "WARNING:tensorflow:From c:\\users\\hasee\\appdata\\local\\programs\\python\\python35\\lib\\site-packages\\tensorflow\\python\\ops\\resource_variable_ops.py:435: colocate_with (from tensorflow.python.framework.ops) is deprecated and will be removed in a future version.\n",
      "Instructions for updating:\n",
      "Colocations handled automatically by placer.\n"
     ]
    }
   ],
   "source": [
    "img_size = (150, 150, 3)\n",
    "conv_base = VGG16(weights='imagenet',\n",
    "                  include_top=False,\n",
    "                  input_shape=img_size)\n",
    "\n",
    "model = models.Sequential()\n",
    "model.add(conv_base)\n",
    "model.add(layers.Flatten())\n",
    "model.add(layers.Dense(256, activation='relu'))\n",
    "model.add(layers.Dense(1, activation='sigmoid'))\n",
    "conv_base.trainable = False"
   ]
  },
  {
   "cell_type": "code",
   "execution_count": 3,
   "metadata": {
    "ExecuteTime": {
     "end_time": "2019-05-29T01:59:05.750804Z",
     "start_time": "2019-05-29T01:59:05.740830Z"
    }
   },
   "outputs": [
    {
     "name": "stdout",
     "output_type": "stream",
     "text": [
      "_________________________________________________________________\n",
      "Layer (type)                 Output Shape              Param #   \n",
      "=================================================================\n",
      "vgg16 (Model)                (None, 4, 4, 512)         14714688  \n",
      "_________________________________________________________________\n",
      "flatten (Flatten)            (None, 8192)              0         \n",
      "_________________________________________________________________\n",
      "dense (Dense)                (None, 256)               2097408   \n",
      "_________________________________________________________________\n",
      "dense_1 (Dense)              (None, 1)                 257       \n",
      "=================================================================\n",
      "Total params: 16,812,353\n",
      "Trainable params: 2,097,665\n",
      "Non-trainable params: 14,714,688\n",
      "_________________________________________________________________\n"
     ]
    }
   ],
   "source": [
    "model.summary()"
   ]
  },
  {
   "cell_type": "code",
   "execution_count": 4,
   "metadata": {
    "ExecuteTime": {
     "end_time": "2019-05-29T01:59:09.012629Z",
     "start_time": "2019-05-29T01:59:08.891915Z"
    }
   },
   "outputs": [],
   "source": [
    "model.compile(loss='binary_crossentropy',\n",
    "              optimizer=tf.keras.optimizers.RMSprop(lr=2e-5),\n",
    "              metrics=['acc'])"
   ]
  },
  {
   "cell_type": "markdown",
   "metadata": {},
   "source": [
    "## Keras model to TF estimator\n",
    "`model_dir` will be our location to store trained tensorflow models. Training progress can be viewed by TensorBoard.\n",
    "\n",
    "I found that I have to specify the full path, otherwise, Tensorflow will complain about it later during training."
   ]
  },
  {
   "cell_type": "code",
   "execution_count": 5,
   "metadata": {
    "ExecuteTime": {
     "end_time": "2019-05-29T01:59:57.503169Z",
     "start_time": "2019-05-29T01:59:52.784076Z"
    }
   },
   "outputs": [
    {
     "name": "stdout",
     "output_type": "stream",
     "text": [
      "model_dir:  E:\\SW_WS\\Python_SW\\Keras_catVSdog_tf_estimator\\models\\catvsdog1\n",
      "INFO:tensorflow:Using default config.\n",
      "INFO:tensorflow:Using the Keras model provided.\n",
      "WARNING:tensorflow:From c:\\users\\hasee\\appdata\\local\\programs\\python\\python35\\lib\\site-packages\\tensorflow\\python\\ops\\math_ops.py:3066: to_int32 (from tensorflow.python.ops.math_ops) is deprecated and will be removed in a future version.\n",
      "Instructions for updating:\n",
      "Use tf.cast instead.\n",
      "INFO:tensorflow:Using config: {'_save_checkpoints_steps': None, '_device_fn': None, '_save_checkpoints_secs': 600, '_train_distribute': None, '_save_summary_steps': 100, '_service': None, '_evaluation_master': '', '_task_type': 'worker', '_global_id_in_cluster': 0, '_eval_distribute': None, '_master': '', '_num_ps_replicas': 0, '_num_worker_replicas': 1, '_log_step_count_steps': 100, '_session_config': allow_soft_placement: true\n",
      "graph_options {\n",
      "  rewrite_options {\n",
      "    meta_optimizer_iterations: ONE\n",
      "  }\n",
      "}\n",
      ", '_experimental_distribute': None, '_tf_random_seed': None, '_cluster_spec': <tensorflow.python.training.server_lib.ClusterSpec object at 0x000002866CB62BE0>, '_keep_checkpoint_max': 5, '_keep_checkpoint_every_n_hours': 10000, '_protocol': None, '_is_chief': True, '_task_id': 0, '_model_dir': 'E:\\\\SW_WS\\\\Python_SW\\\\Keras_catVSdog_tf_estimator\\\\models\\\\catvsdog1'}\n"
     ]
    }
   ],
   "source": [
    "model_dir = os.path.join(os.getcwd(), \"models//catvsdog1\").replace(\"//\", \"\\\\\")\n",
    "os.makedirs(model_dir, exist_ok=True)\n",
    "print(\"model_dir: \", model_dir)\n",
    "est_catvsdog = tf.keras.estimator.model_to_estimator(keras_model=model,\n",
    "                                                     model_dir=model_dir)"
   ]
  },
  {
   "cell_type": "markdown",
   "metadata": {},
   "source": [
    "The input_name is the model's input layer name, we will need it later when building Input function for your estimator. More on that in Input function section below."
   ]
  },
  {
   "cell_type": "code",
   "execution_count": 6,
   "metadata": {
    "ExecuteTime": {
     "end_time": "2019-05-29T02:00:46.843726Z",
     "start_time": "2019-05-29T02:00:46.836747Z"
    }
   },
   "outputs": [
    {
     "data": {
      "text/plain": [
       "'vgg16_input'"
      ]
     },
     "execution_count": 6,
     "metadata": {},
     "output_type": "execute_result"
    }
   ],
   "source": [
    "# input layer name\n",
    "input_name = model.input_names[0]\n",
    "input_name"
   ]
  },
  {
   "cell_type": "markdown",
   "metadata": {},
   "source": [
    "## Downloading the data\n",
    "\n",
    "The cats vs. dogs dataset was made available by Kaggle.com as part of a computer vision \n",
    "competition in late 2013. You can download the original dataset at \n",
    "https://www.kaggle.com/c/dogs-vs-cats/download/train.zip (you will need to create a Kaggle account if you don't already have one -- don't worry, the \n",
    "process is painless).\n",
    "\n",
    "After downloading and uncompressing it, we will create a new dataset containing three subsets: a training set with 1000 samples of each class, and a test set with 500 samples of each class."
   ]
  },
  {
   "cell_type": "code",
   "execution_count": 7,
   "metadata": {
    "ExecuteTime": {
     "end_time": "2019-05-29T02:01:11.542768Z",
     "start_time": "2019-05-29T02:01:11.531795Z"
    }
   },
   "outputs": [],
   "source": [
    "# The path to the directory where the original\n",
    "# dataset was uncompressed\n",
    "original_dataset_dir = 'E:\\\\Learning_Resources\\\\Deep_learning\\\\my_data_sets\\\\DATASETS_IMAGE\\\\dog_vs_cat\\\\train'\n",
    "\n",
    "# The directory where we will\n",
    "# store our smaller dataset\n",
    "base_dir = './data/dog_vs_cat_small'\n",
    "train_dir = os.path.join(base_dir, 'train')\n",
    "test_dir = os.path.join(base_dir, 'test')\n",
    "train_cats_dir = os.path.join(train_dir, 'cats')\n",
    "train_dogs_dir = os.path.join(train_dir, 'dogs')\n",
    "test_cats_dir = os.path.join(test_dir, 'cats')\n",
    "test_dogs_dir = os.path.join(test_dir, 'dogs')"
   ]
  },
  {
   "cell_type": "code",
   "execution_count": null,
   "metadata": {},
   "outputs": [],
   "source": [
    "if not os.path.isdir(train_dir) and not os.path.isdir(test_dir):\n",
    "    os.makedirs(base_dir, exist_ok=True)\n",
    "    # Directories for our training,\n",
    "    # validation and test splits\n",
    "    os.mkdir(train_dir)\n",
    "    os.mkdir(test_dir)\n",
    "    # Directory with our training cat pictures\n",
    "    os.mkdir(train_cats_dir)\n",
    "    # Directory with our training dog pictures\n",
    "    os.mkdir(train_dogs_dir)\n",
    "    # Directory with our validation cat pictures\n",
    "    os.mkdir(test_cats_dir)\n",
    "    # Directory with our validation dog pictures\n",
    "    os.mkdir(test_dogs_dir)\n",
    "    # Copy first 1000 cat images to train_cats_dir\n",
    "    fnames = ['cat.{}.jpg'.format(i) for i in range(1000)]\n",
    "    for fname in fnames:\n",
    "        src = os.path.join(original_dataset_dir, fname)\n",
    "        dst = os.path.join(train_cats_dir, fname)\n",
    "        shutil.copyfile(src, dst)\n",
    "    # Copy first 1000 dog images to train_dogs_dir\n",
    "    fnames = ['dog.{}.jpg'.format(i) for i in range(1000)]\n",
    "    for fname in fnames:\n",
    "        src = os.path.join(original_dataset_dir, fname)\n",
    "        dst = os.path.join(train_dogs_dir, fname)\n",
    "        shutil.copyfile(src, dst)\n",
    "\n",
    "    # Copy next 500 cat images to test_cats_dir\n",
    "    fnames = ['cat.{}.jpg'.format(i) for i in range(1500, 2000)]\n",
    "    for fname in fnames:\n",
    "        src = os.path.join(original_dataset_dir, fname)\n",
    "        dst = os.path.join(test_cats_dir, fname)\n",
    "        shutil.copyfile(src, dst)\n",
    "\n",
    "    # Copy next 500 dog images to test_dogs_dir\n",
    "    fnames = ['dog.{}.jpg'.format(i) for i in range(1500, 2000)]\n",
    "    for fname in fnames:\n",
    "        src = os.path.join(original_dataset_dir, fname)\n",
    "        dst = os.path.join(test_dogs_dir, fname)\n",
    "        shutil.copyfile(src, dst)"
   ]
  },
  {
   "cell_type": "markdown",
   "metadata": {},
   "source": [
    "As a sanity check, let's count how many pictures we have in each training split (train/test):"
   ]
  },
  {
   "cell_type": "code",
   "execution_count": 8,
   "metadata": {
    "ExecuteTime": {
     "end_time": "2019-05-29T02:01:20.448534Z",
     "start_time": "2019-05-29T02:01:20.436571Z"
    }
   },
   "outputs": [
    {
     "name": "stdout",
     "output_type": "stream",
     "text": [
      "total training cat images: 1000\n",
      "total training dog images: 1000\n",
      "total test cat images: 500\n",
      "total test dog images: 500\n"
     ]
    }
   ],
   "source": [
    "print('total training cat images:', len(os.listdir(train_cats_dir)))\n",
    "print('total training dog images:', len(os.listdir(train_dogs_dir)))\n",
    "print('total test cat images:', len(os.listdir(test_cats_dir)))\n",
    "print('total test dog images:', len(os.listdir(test_dogs_dir)))"
   ]
  },
  {
   "cell_type": "markdown",
   "metadata": {},
   "source": [
    "Function to shuffle images along with the labels"
   ]
  },
  {
   "cell_type": "code",
   "execution_count": 9,
   "metadata": {
    "ExecuteTime": {
     "end_time": "2019-05-29T02:01:26.418236Z",
     "start_time": "2019-05-29T02:01:26.412253Z"
    }
   },
   "outputs": [],
   "source": [
    "def unison_shuffled_copies(a, b):\n",
    "    a = np.array(a)\n",
    "    b = np.array(b)\n",
    "    assert len(a) == len(b)\n",
    "    p = np.random.permutation(len(a))\n",
    "    return a[p], b[p]"
   ]
  },
  {
   "cell_type": "markdown",
   "metadata": {},
   "source": [
    "Collect and shuffle image files with associated labels."
   ]
  },
  {
   "cell_type": "code",
   "execution_count": 10,
   "metadata": {
    "ExecuteTime": {
     "end_time": "2019-05-29T02:02:05.596484Z",
     "start_time": "2019-05-29T02:02:05.556619Z"
    }
   },
   "outputs": [],
   "source": [
    "CAT_LABEL = 0\n",
    "DOG_LABEL = 1\n",
    "train_cats = [os.path.join(train_cats_dir, file_name)\n",
    "              for file_name in os.listdir(train_cats_dir)]\n",
    "train_dogs = [os.path.join(train_dogs_dir, file_name)\n",
    "              for file_name in os.listdir(train_dogs_dir)]\n",
    "train_files = train_cats + train_dogs\n",
    "train_labels = [CAT_LABEL]*len(train_cats)+[DOG_LABEL]*len(train_dogs)\n",
    "train_files, train_labels = unison_shuffled_copies(train_files, train_labels)\n",
    "test_cats = [os.path.join(test_cats_dir, file_name)\n",
    "             for file_name in os.listdir(test_cats_dir)]\n",
    "test_dogs = [os.path.join(test_dogs_dir, file_name)\n",
    "             for file_name in os.listdir(test_dogs_dir)]\n",
    "test_files = test_cats + test_dogs\n",
    "test_labels = [CAT_LABEL]*len(test_cats)+[DOG_LABEL]*len(test_dogs)\n",
    "test_files, test_labels = unison_shuffled_copies(test_files, test_labels)"
   ]
  },
  {
   "cell_type": "markdown",
   "metadata": {},
   "source": [
    "Have a look at first 10 shuffled image files and labels."
   ]
  },
  {
   "cell_type": "code",
   "execution_count": 11,
   "metadata": {
    "ExecuteTime": {
     "end_time": "2019-05-29T02:02:08.424117Z",
     "start_time": "2019-05-29T02:02:08.404169Z"
    }
   },
   "outputs": [
    {
     "name": "stdout",
     "output_type": "stream",
     "text": [
      "['./data/dog_vs_cat_small\\\\train\\\\dogs\\\\dog.600.jpg'\n",
      " './data/dog_vs_cat_small\\\\train\\\\cats\\\\cat.594.jpg'\n",
      " './data/dog_vs_cat_small\\\\train\\\\cats\\\\cat.141.jpg'\n",
      " './data/dog_vs_cat_small\\\\train\\\\dogs\\\\dog.553.jpg'\n",
      " './data/dog_vs_cat_small\\\\train\\\\cats\\\\cat.384.jpg'\n",
      " './data/dog_vs_cat_small\\\\train\\\\cats\\\\cat.251.jpg'\n",
      " './data/dog_vs_cat_small\\\\train\\\\dogs\\\\dog.352.jpg'\n",
      " './data/dog_vs_cat_small\\\\train\\\\dogs\\\\dog.559.jpg'\n",
      " './data/dog_vs_cat_small\\\\train\\\\cats\\\\cat.991.jpg'\n",
      " './data/dog_vs_cat_small\\\\train\\\\cats\\\\cat.829.jpg']\n",
      "[1 0 0 1 0 0 1 1 0 0]\n"
     ]
    }
   ],
   "source": [
    "print(train_files[:10])\n",
    "print(train_labels[:10])"
   ]
  },
  {
   "cell_type": "markdown",
   "metadata": {},
   "source": [
    "## Create TFRecord"
   ]
  },
  {
   "cell_type": "code",
   "execution_count": 12,
   "metadata": {
    "ExecuteTime": {
     "end_time": "2019-05-29T02:02:12.864458Z",
     "start_time": "2019-05-29T02:02:12.859474Z"
    }
   },
   "outputs": [],
   "source": [
    "path_tfrecords_train = os.path.join(base_dir, \"train.tfrecords\")\n",
    "path_tfrecords_test = os.path.join(base_dir, \"test.tfrecords\")"
   ]
  },
  {
   "cell_type": "markdown",
   "metadata": {},
   "source": [
    "Helper-function for printing the conversion progress."
   ]
  },
  {
   "cell_type": "code",
   "execution_count": 13,
   "metadata": {
    "ExecuteTime": {
     "end_time": "2019-05-29T02:02:17.315999Z",
     "start_time": "2019-05-29T02:02:17.308020Z"
    }
   },
   "outputs": [],
   "source": [
    "def print_progress(count, total):\n",
    "    # Percentage completion.\n",
    "    pct_complete = float(count) / total\n",
    "\n",
    "    # Status-message.\n",
    "    # Note the \\r which means the line should overwrite itself.\n",
    "    msg = \"\\r- Progress: {0:.1%}\".format(pct_complete)\n",
    "\n",
    "    # Print it.\n",
    "    sys.stdout.write(msg)\n",
    "    sys.stdout.flush()"
   ]
  },
  {
   "cell_type": "markdown",
   "metadata": {},
   "source": [
    "Helper-function for wrapping an integer so it can be saved to the TFRecord file."
   ]
  },
  {
   "cell_type": "code",
   "execution_count": 14,
   "metadata": {
    "ExecuteTime": {
     "end_time": "2019-05-29T02:02:19.321599Z",
     "start_time": "2019-05-29T02:02:19.316614Z"
    }
   },
   "outputs": [],
   "source": [
    "def wrap_int64(value):\n",
    "    return tf.train.Feature(int64_list=tf.train.Int64List(value=[value]))"
   ]
  },
  {
   "cell_type": "markdown",
   "metadata": {},
   "source": [
    "Helper-function for wrapping raw bytes so they can be saved to the TFRecord file."
   ]
  },
  {
   "cell_type": "code",
   "execution_count": 15,
   "metadata": {
    "ExecuteTime": {
     "end_time": "2019-05-29T02:02:23.096351Z",
     "start_time": "2019-05-29T02:02:23.091342Z"
    }
   },
   "outputs": [],
   "source": [
    "def wrap_bytes(value):\n",
    "    return tf.train.Feature(bytes_list=tf.train.BytesList(value=[value]))"
   ]
  },
  {
   "cell_type": "markdown",
   "metadata": {},
   "source": [
    "Function for reading images from disk and writing them along with the class-labels to a TFRecord file."
   ]
  },
  {
   "cell_type": "code",
   "execution_count": 16,
   "metadata": {
    "ExecuteTime": {
     "end_time": "2019-05-29T02:02:27.912907Z",
     "start_time": "2019-05-29T02:02:27.876006Z"
    }
   },
   "outputs": [],
   "source": [
    "def convert(image_paths, labels, out_path, size=(150, 150)):\n",
    "    # Args:\n",
    "    # image_paths   List of file-paths for the images.\n",
    "    # labels        Class-labels for the images.\n",
    "    # out_path      File-path for the TFRecords output file.\n",
    "    print(\"Converting: \" + out_path)\n",
    "    # Number of images. Used when printing the progress.\n",
    "    num_images = len(image_paths)\n",
    "    # Open a TFRecordWriter for the output-file.\n",
    "    with tf.python_io.TFRecordWriter(out_path) as writer:\n",
    "        # Iterate over all the image-paths and class-labels.\n",
    "        for i, (path, label) in enumerate(zip(image_paths, labels)):\n",
    "            # Print the percentage-progress.\n",
    "            print_progress(count=i, total=num_images-1)\n",
    "            # Load the image-file using matplotlib's imread function.\n",
    "            img = Image.open(path)\n",
    "            img = img.resize(size)\n",
    "            img = np.array(img)\n",
    "            # Convert the image to raw bytes.\n",
    "            img_bytes = img.tostring()\n",
    "            # Create a dict with the data we want to save in the\n",
    "            # TFRecords file. You can add more relevant data here.\n",
    "            data = \\\n",
    "                {\n",
    "                    'image': wrap_bytes(img_bytes),\n",
    "                    'label': wrap_int64(label)\n",
    "                }\n",
    "            # Wrap the data as TensorFlow Features.\n",
    "            feature = tf.train.Features(feature=data)\n",
    "            # Wrap again as a TensorFlow Example.\n",
    "            example = tf.train.Example(features=feature)\n",
    "            # Serialize the data.\n",
    "            serialized = example.SerializeToString()\n",
    "            # Write the serialized data to the TFRecords file.\n",
    "            writer.write(serialized)"
   ]
  },
  {
   "cell_type": "code",
   "execution_count": 17,
   "metadata": {
    "ExecuteTime": {
     "end_time": "2019-05-29T02:03:31.412376Z",
     "start_time": "2019-05-29T02:02:32.067923Z"
    }
   },
   "outputs": [
    {
     "name": "stdout",
     "output_type": "stream",
     "text": [
      "Converting: ./data/dog_vs_cat_small\\train.tfrecords\n",
      "- Progress: 100.0%Converting: ./data/dog_vs_cat_small\\test.tfrecords\n",
      "- Progress: 100.0%"
     ]
    }
   ],
   "source": [
    "convert(image_paths=train_files,\n",
    "        labels=train_labels,\n",
    "        out_path=path_tfrecords_train)\n",
    "convert(image_paths=test_files,\n",
    "        labels=test_labels,\n",
    "        out_path=path_tfrecords_test,\n",
    "        size=img_size[:2])"
   ]
  },
  {
   "cell_type": "markdown",
   "metadata": {},
   "source": [
    "## Input function\n",
    "When we train our model, we'll need a function that reads the input image files/labels and returns the image data and labels. Estimators require that you create a function of the following format:\n",
    "````\n",
    "def input_fn():\n",
    "    ...<code>...\n",
    "    return ({ 'input_1':[ImagesValues]},\n",
    "            [ImageTypeLogit])\n",
    "```\n",
    "The return value must be a two-element tuple organized as follows: :\n",
    "\n",
    "- The first element must be a dictionary in which each input feature is a key, and then a list of values for the training batch.\n",
    "- The second element is a list of labels for the training batch.\n",
    "### Arguments\n",
    "- **filenames**, TF-record file name\n",
    "- **perform_shuffle=False**, useful when training, reads batch_size records, then shuffles (randomizes) their order.\n",
    "- **repeat_count=1**, useful when training, repeat the input data several times for each epoch\n",
    "- **batch_size=1**, reads batch_size records at a time"
   ]
  },
  {
   "cell_type": "code",
   "execution_count": 18,
   "metadata": {
    "ExecuteTime": {
     "end_time": "2019-05-29T02:04:58.428437Z",
     "start_time": "2019-05-29T02:04:58.371590Z"
    }
   },
   "outputs": [],
   "source": [
    "def imgs_input_fn(filenames, perform_shuffle=False, repeat_count=1, batch_size=1):\n",
    "    def _parse_function(serialized):\n",
    "        features = \\\n",
    "            {\n",
    "                'image': tf.FixedLenFeature([], tf.string),\n",
    "                'label': tf.FixedLenFeature([], tf.int64)\n",
    "            }\n",
    "        # Parse the serialized data so we get a dict with our data.\n",
    "        parsed_example = tf.parse_single_example(serialized=serialized,\n",
    "                                                 features=features)\n",
    "        # Get the image as raw bytes.\n",
    "        image_shape = tf.stack([150, 150, 3])\n",
    "        image_raw = parsed_example['image']\n",
    "        label = tf.cast(parsed_example['label'], tf.float32)\n",
    "        # Decode the raw bytes so it becomes a tensor with type.\n",
    "        image = tf.decode_raw(image_raw, tf.uint8)\n",
    "        image = tf.cast(image, tf.float32)\n",
    "        image = tf.reshape(image, image_shape)\n",
    "        image = tf.subtract(image, 116.779)  # Zero-center by mean pixel\n",
    "        image = tf.reverse(image, axis=[2])  # 'RGB'->'BGR'\n",
    "        d = dict(zip([input_name], [image])), [label]\n",
    "        return d\n",
    "\n",
    "    dataset = tf.data.TFRecordDataset(filenames=filenames)\n",
    "    # Parse the serialized data in the TFRecords files.\n",
    "    # This returns TensorFlow tensors for the image and labels.\n",
    "    dataset = dataset.map(_parse_function)\n",
    "    if perform_shuffle:\n",
    "        # Randomizes input using a window of 256 elements (read into memory)\n",
    "        dataset = dataset.shuffle(buffer_size=256)\n",
    "    dataset = dataset.repeat(repeat_count)  # Repeats dataset this # times\n",
    "    dataset = dataset.batch(batch_size)  # Batch size to use\n",
    "    iterator = dataset.make_one_shot_iterator()\n",
    "    batch_features, batch_labels = iterator.get_next()\n",
    "    return batch_features, batch_labels"
   ]
  },
  {
   "cell_type": "markdown",
   "metadata": {},
   "source": [
    "## Look at the input function output\n",
    "Looks like color channels 'RGB' has changed to 'BGR' and shape resized to (150, 150) correctly for our model. That is the input format the VGG16's \"convolutional base\" is expecting."
   ]
  },
  {
   "cell_type": "code",
   "execution_count": 20,
   "metadata": {
    "ExecuteTime": {
     "end_time": "2019-05-29T02:05:31.855402Z",
     "start_time": "2019-05-29T02:05:31.508331Z"
    }
   },
   "outputs": [
    {
     "name": "stdout",
     "output_type": "stream",
     "text": [
      "(20, 150, 150, 3)\n"
     ]
    },
    {
     "data": {
      "image/png": "[encoded data removed]",
      "text/plain": [
       "<PIL.Image.Image image mode=RGB size=150x150 at 0x286752ACF98>"
      ]
     },
     "execution_count": 20,
     "metadata": {},
     "output_type": "execute_result"
    }
   ],
   "source": [
    "next_batch = imgs_input_fn(path_tfrecords_test, perform_shuffle=True, batch_size=20)\n",
    "with tf.Session() as sess:\n",
    "    first_batch = sess.run(next_batch)\n",
    "x_d = first_batch[0][input_name]\n",
    "\n",
    "print(x_d.shape)\n",
    "img = image.array_to_img(x_d[8])\n",
    "img"
   ]
  },
  {
   "cell_type": "markdown",
   "metadata": {},
   "source": [
    "### tf.estimator.train_and_evaluate"
   ]
  },
  {
   "cell_type": "markdown",
   "metadata": {},
   "source": [
    "Since TensorFlow release 1.4 also introduces the utility function **tf.estimator.train_and_evaluate**, which simplifies training, evaluation, and exporting Estimator models. This function enables distributed execution for training and evaluation, while still supporting local execution.\n",
    "\n",
    "Notice that the train was build on previous training result when we call the `est_catvsdog.train()`"
   ]
  },
  {
   "cell_type": "code",
   "execution_count": 21,
   "metadata": {
    "ExecuteTime": {
     "end_time": "2019-05-29T02:07:23.324247Z",
     "start_time": "2019-05-29T02:05:38.309447Z"
    },
    "scrolled": false
   },
   "outputs": [
    {
     "name": "stdout",
     "output_type": "stream",
     "text": [
      "INFO:tensorflow:Not using Distribute Coordinator.\n",
      "INFO:tensorflow:Running training and evaluation locally (non-distributed).\n",
      "INFO:tensorflow:Start train and evaluate loop. The evaluate will happen after every checkpoint. Checkpoint frequency is determined based on RunConfig arguments: save_checkpoints_steps None or save_checkpoints_secs 600.\n",
      "INFO:tensorflow:Calling model_fn.\n",
      "INFO:tensorflow:Done calling model_fn.\n",
      "INFO:tensorflow:Warm-starting with WarmStartSettings: WarmStartSettings(ckpt_to_initialize_from='E:\\\\SW_WS\\\\Python_SW\\\\Keras_catVSdog_tf_estimator\\\\models\\\\catvsdog1\\\\keras\\\\keras_model.ckpt', vars_to_warm_start='.*', var_name_to_vocab_info={}, var_name_to_prev_var_name={})\n",
      "INFO:tensorflow:Warm-starting from: ('E:\\\\SW_WS\\\\Python_SW\\\\Keras_catVSdog_tf_estimator\\\\models\\\\catvsdog1\\\\keras\\\\keras_model.ckpt',)\n",
      "INFO:tensorflow:Warm-starting variable: block4_conv1/bias; prev_var_name: Unchanged\n",
      "INFO:tensorflow:Warm-starting variable: block4_conv2/bias; prev_var_name: Unchanged\n",
      "INFO:tensorflow:Warm-starting variable: training/RMSprop/Variable_8; prev_var_name: Unchanged\n",
      "INFO:tensorflow:Warm-starting variable: block3_conv2/kernel; prev_var_name: Unchanged\n",
      "INFO:tensorflow:Warm-starting variable: block3_conv1/bias; prev_var_name: Unchanged\n",
      "INFO:tensorflow:Warm-starting variable: block2_conv2/kernel; prev_var_name: Unchanged\n",
      "INFO:tensorflow:Warm-starting variable: dense_1/kernel; prev_var_name: Unchanged\n",
      "INFO:tensorflow:Warm-starting variable: training/RMSprop/Variable_19; prev_var_name: Unchanged\n",
      "INFO:tensorflow:Warm-starting variable: training/RMSprop/Variable; prev_var_name: Unchanged\n",
      "INFO:tensorflow:Warm-starting variable: block5_conv3/bias; prev_var_name: Unchanged\n",
      "INFO:tensorflow:Warm-starting variable: block5_conv2/bias; prev_var_name: Unchanged\n",
      "INFO:tensorflow:Warm-starting variable: training/RMSprop/Variable_14; prev_var_name: Unchanged\n",
      "INFO:tensorflow:Warm-starting variable: training/RMSprop/Variable_18; prev_var_name: Unchanged\n",
      "INFO:tensorflow:Warm-starting variable: RMSprop/lr; prev_var_name: Unchanged\n",
      "INFO:tensorflow:Warm-starting variable: training/RMSprop/Variable_20; prev_var_name: Unchanged\n",
      "INFO:tensorflow:Warm-starting variable: training/RMSprop/Variable_11; prev_var_name: Unchanged\n",
      "INFO:tensorflow:Warm-starting variable: block1_conv1/kernel; prev_var_name: Unchanged\n",
      "INFO:tensorflow:Warm-starting variable: block4_conv3/kernel; prev_var_name: Unchanged\n",
      "INFO:tensorflow:Warm-starting variable: RMSprop/decay; prev_var_name: Unchanged\n",
      "INFO:tensorflow:Warm-starting variable: training/RMSprop/Variable_1; prev_var_name: Unchanged\n",
      "INFO:tensorflow:Warm-starting variable: training/RMSprop/Variable_6; prev_var_name: Unchanged\n",
      "INFO:tensorflow:Warm-starting variable: training/RMSprop/Variable_27; prev_var_name: Unchanged\n",
      "INFO:tensorflow:Warm-starting variable: block3_conv1/kernel; prev_var_name: Unchanged\n",
      "INFO:tensorflow:Warm-starting variable: block5_conv2/kernel; prev_var_name: Unchanged\n",
      "INFO:tensorflow:Warm-starting variable: training/RMSprop/Variable_13; prev_var_name: Unchanged\n",
      "INFO:tensorflow:Warm-starting variable: block5_conv1/kernel; prev_var_name: Unchanged\n",
      "INFO:tensorflow:Warm-starting variable: training/RMSprop/Variable_24; prev_var_name: Unchanged\n",
      "INFO:tensorflow:Warm-starting variable: block1_conv2/kernel; prev_var_name: Unchanged\n",
      "INFO:tensorflow:Warm-starting variable: block2_conv1/bias; prev_var_name: Unchanged\n",
      "INFO:tensorflow:Warm-starting variable: training/RMSprop/Variable_12; prev_var_name: Unchanged\n",
      "INFO:tensorflow:Warm-starting variable: block1_conv1/bias; prev_var_name: Unchanged\n",
      "INFO:tensorflow:Warm-starting variable: RMSprop/rho; prev_var_name: Unchanged\n",
      "INFO:tensorflow:Warm-starting variable: dense_1/bias; prev_var_name: Unchanged\n",
      "INFO:tensorflow:Warm-starting variable: training/RMSprop/Variable_10; prev_var_name: Unchanged\n",
      "INFO:tensorflow:Warm-starting variable: training/RMSprop/Variable_7; prev_var_name: Unchanged\n",
      "INFO:tensorflow:Warm-starting variable: block3_conv2/bias; prev_var_name: Unchanged\n",
      "INFO:tensorflow:Warm-starting variable: training/RMSprop/Variable_4; prev_var_name: Unchanged\n",
      "INFO:tensorflow:Warm-starting variable: training/RMSprop/Variable_16; prev_var_name: Unchanged\n",
      "INFO:tensorflow:Warm-starting variable: training/RMSprop/Variable_21; prev_var_name: Unchanged\n",
      "INFO:tensorflow:Warm-starting variable: block4_conv3/bias; prev_var_name: Unchanged\n",
      "INFO:tensorflow:Warm-starting variable: training/RMSprop/Variable_26; prev_var_name: Unchanged\n",
      "INFO:tensorflow:Warm-starting variable: block5_conv1/bias; prev_var_name: Unchanged\n",
      "INFO:tensorflow:Warm-starting variable: training/RMSprop/Variable_23; prev_var_name: Unchanged\n",
      "INFO:tensorflow:Warm-starting variable: training/RMSprop/Variable_2; prev_var_name: Unchanged\n",
      "INFO:tensorflow:Warm-starting variable: dense/kernel; prev_var_name: Unchanged\n",
      "INFO:tensorflow:Warm-starting variable: dense/bias; prev_var_name: Unchanged\n",
      "INFO:tensorflow:Warm-starting variable: block3_conv3/kernel; prev_var_name: Unchanged\n",
      "INFO:tensorflow:Warm-starting variable: training/RMSprop/Variable_25; prev_var_name: Unchanged\n",
      "INFO:tensorflow:Warm-starting variable: block5_conv3/kernel; prev_var_name: Unchanged\n",
      "INFO:tensorflow:Warm-starting variable: block1_conv2/bias; prev_var_name: Unchanged\n",
      "INFO:tensorflow:Warm-starting variable: training/RMSprop/Variable_17; prev_var_name: Unchanged\n",
      "INFO:tensorflow:Warm-starting variable: training/RMSprop/Variable_22; prev_var_name: Unchanged\n",
      "INFO:tensorflow:Warm-starting variable: training/RMSprop/Variable_29; prev_var_name: Unchanged\n",
      "INFO:tensorflow:Warm-starting variable: training/RMSprop/Variable_15; prev_var_name: Unchanged\n",
      "INFO:tensorflow:Warm-starting variable: block3_conv3/bias; prev_var_name: Unchanged\n",
      "INFO:tensorflow:Warm-starting variable: block4_conv1/kernel; prev_var_name: Unchanged\n",
      "INFO:tensorflow:Warm-starting variable: block2_conv1/kernel; prev_var_name: Unchanged\n",
      "INFO:tensorflow:Warm-starting variable: training/RMSprop/Variable_3; prev_var_name: Unchanged\n",
      "INFO:tensorflow:Warm-starting variable: block4_conv2/kernel; prev_var_name: Unchanged\n",
      "INFO:tensorflow:Warm-starting variable: training/RMSprop/Variable_9; prev_var_name: Unchanged\n",
      "INFO:tensorflow:Warm-starting variable: block2_conv2/bias; prev_var_name: Unchanged\n",
      "INFO:tensorflow:Warm-starting variable: training/RMSprop/Variable_5; prev_var_name: Unchanged\n",
      "INFO:tensorflow:Warm-starting variable: training/RMSprop/Variable_28; prev_var_name: Unchanged\n",
      "INFO:tensorflow:Warm-starting variable: RMSprop/iterations; prev_var_name: Unchanged\n",
      "INFO:tensorflow:Create CheckpointSaverHook.\n",
      "INFO:tensorflow:Graph was finalized.\n",
      "INFO:tensorflow:Running local_init_op.\n",
      "INFO:tensorflow:Done running local_init_op.\n",
      "INFO:tensorflow:Saving checkpoints for 0 into E:\\SW_WS\\Python_SW\\Keras_catVSdog_tf_estimator\\models\\catvsdog1\\model.ckpt.\n",
      "INFO:tensorflow:loss = 5.04906, step = 1\n",
      "INFO:tensorflow:global_step/sec: 5.33574\n",
      "INFO:tensorflow:loss = 0.110240206, step = 101 (18.741 sec)\n",
      "INFO:tensorflow:global_step/sec: 5.61544\n",
      "INFO:tensorflow:loss = 0.003336858, step = 201 (17.808 sec)\n",
      "INFO:tensorflow:global_step/sec: 5.56277\n",
      "INFO:tensorflow:loss = 5.4005468e-05, step = 301 (17.977 sec)\n",
      "INFO:tensorflow:global_step/sec: 5.54159\n",
      "INFO:tensorflow:loss = 0.0020613554, step = 401 (18.046 sec)\n",
      "INFO:tensorflow:Saving checkpoints for 500 into E:\\SW_WS\\Python_SW\\Keras_catVSdog_tf_estimator\\models\\catvsdog1\\model.ckpt.\n",
      "INFO:tensorflow:Calling model_fn.\n",
      "INFO:tensorflow:Done calling model_fn.\n",
      "WARNING:tensorflow:From c:\\users\\hasee\\appdata\\local\\programs\\python\\python35\\lib\\site-packages\\tensorflow\\python\\ops\\metrics_impl.py:363: to_float (from tensorflow.python.ops.math_ops) is deprecated and will be removed in a future version.\n",
      "Instructions for updating:\n",
      "Use tf.cast instead.\n",
      "INFO:tensorflow:Starting evaluation at 2019-05-29T02:07:21Z\n",
      "INFO:tensorflow:Graph was finalized.\n",
      "WARNING:tensorflow:From c:\\users\\hasee\\appdata\\local\\programs\\python\\python35\\lib\\site-packages\\tensorflow\\python\\training\\saver.py:1266: checkpoint_exists (from tensorflow.python.training.checkpoint_management) is deprecated and will be removed in a future version.\n",
      "Instructions for updating:\n",
      "Use standard file APIs to check for files with this prefix.\n",
      "INFO:tensorflow:Restoring parameters from E:\\SW_WS\\Python_SW\\Keras_catVSdog_tf_estimator\\models\\catvsdog1\\model.ckpt-500\n"
     ]
    },
    {
     "name": "stdout",
     "output_type": "stream",
     "text": [
      "INFO:tensorflow:Running local_init_op.\n",
      "INFO:tensorflow:Done running local_init_op.\n",
      "INFO:tensorflow:Evaluation [10/100]\n",
      "INFO:tensorflow:Evaluation [20/100]\n",
      "INFO:tensorflow:Evaluation [30/100]\n",
      "INFO:tensorflow:Evaluation [40/100]\n",
      "INFO:tensorflow:Evaluation [50/100]\n",
      "INFO:tensorflow:Evaluation [60/100]\n",
      "INFO:tensorflow:Evaluation [70/100]\n",
      "INFO:tensorflow:Evaluation [80/100]\n",
      "INFO:tensorflow:Evaluation [90/100]\n",
      "INFO:tensorflow:Evaluation [100/100]\n",
      "INFO:tensorflow:Finished evaluation at 2019-05-29-02:07:22\n",
      "INFO:tensorflow:Saving dict for global step 500: binary_accuracy = 0.95, global_step = 500, loss = 0.14964081\n",
      "INFO:tensorflow:Saving 'checkpoint_path' summary for global step 500: E:\\SW_WS\\Python_SW\\Keras_catVSdog_tf_estimator\\models\\catvsdog1\\model.ckpt-500\n",
      "INFO:tensorflow:Loss for final step: 0.0035977985.\n",
      "--- 105.0008635520935 seconds ---\n"
     ]
    }
   ],
   "source": [
    "train_spec = tf.estimator.TrainSpec(input_fn=lambda: imgs_input_fn(path_tfrecords_train,\n",
    "                                                                   perform_shuffle=True,\n",
    "                                                                   repeat_count=5,\n",
    "                                                                   batch_size=20), \n",
    "                                    max_steps=500)\n",
    "eval_spec = tf.estimator.EvalSpec(input_fn=lambda: imgs_input_fn(path_tfrecords_test,\n",
    "                                                                 perform_shuffle=False,\n",
    "                                                                 batch_size=1))\n",
    "\n",
    "import time\n",
    "start_time = time.time()\n",
    "tf.estimator.train_and_evaluate(est_catvsdog, train_spec, eval_spec)\n",
    "print(\"--- %s seconds ---\" % (time.time() - start_time))"
   ]
  },
  {
   "cell_type": "markdown",
   "metadata": {},
   "source": [
    "## Predict\n",
    "To predict we can set the `labels` to None because that is what we will be predicting.\n",
    "\n",
    "Here we only predict the first 10 images in the test_files."
   ]
  },
  {
   "cell_type": "code",
   "execution_count": 22,
   "metadata": {
    "ExecuteTime": {
     "end_time": "2019-05-29T02:08:43.918330Z",
     "start_time": "2019-05-29T02:08:43.876442Z"
    }
   },
   "outputs": [],
   "source": [
    "def predict_imgs_input_fn(filenames, batch_size=1):\n",
    "    def _parse_function(filename, label):\n",
    "        image_string = tf.read_file(filename)\n",
    "        image = tf.image.decode_image(image_string, channels=3)\n",
    "        image.set_shape([None, None, None])\n",
    "        image = tf.image.resize_images(image, [150, 150])\n",
    "        image = tf.subtract(image, 116.779)  # Zero-center by mean pixel\n",
    "        image.set_shape([150, 150, 3])\n",
    "        image = tf.reverse(image, axis=[2])  # 'RGB'->'BGR'\n",
    "        d = dict(zip([input_name], [image])), label\n",
    "        return d\n",
    "    labels = [0]*len(filenames)\n",
    "    labels = np.array(labels)\n",
    "    # Expand the shape of \"labels\" if necessory\n",
    "    if len(labels.shape) == 1:\n",
    "        labels = np.expand_dims(labels, axis=1)\n",
    "    filenames = tf.constant(filenames)\n",
    "    labels = tf.constant(labels)\n",
    "    labels = tf.cast(labels, tf.float32)\n",
    "    dataset = tf.data.Dataset.from_tensor_slices((filenames, labels))\n",
    "    dataset = dataset.map(_parse_function)\n",
    "    dataset = dataset.batch(batch_size)  # Batch size to use\n",
    "    iterator = dataset.make_one_shot_iterator()\n",
    "    batch_features, batch_labels = iterator.get_next()\n",
    "    return batch_features, batch_labels"
   ]
  },
  {
   "cell_type": "code",
   "execution_count": 23,
   "metadata": {
    "ExecuteTime": {
     "end_time": "2019-05-29T02:08:46.543260Z",
     "start_time": "2019-05-29T02:08:46.539240Z"
    }
   },
   "outputs": [],
   "source": [
    "predict_results = est_catvsdog.predict(\n",
    "    input_fn=lambda: predict_imgs_input_fn(test_files[:10],\n",
    "                                           batch_size=10))"
   ]
  },
  {
   "cell_type": "code",
   "execution_count": 33,
   "metadata": {
    "ExecuteTime": {
     "end_time": "2019-05-29T02:11:33.824850Z",
     "start_time": "2019-05-29T02:11:33.597367Z"
    },
    "scrolled": true
   },
   "outputs": [],
   "source": [
    "predict_logits = []\n",
    "for prediction in predict_results:\n",
    "    output_name = list(prediction.keys())[-1]\n",
    "    predict_logits.append(prediction[output_name][0])"
   ]
  },
  {
   "cell_type": "markdown",
   "metadata": {},
   "source": [
    "### Check the prediction result\n",
    "The model correctly classified all 10 images."
   ]
  },
  {
   "cell_type": "code",
   "execution_count": 34,
   "metadata": {
    "ExecuteTime": {
     "end_time": "2019-05-29T02:11:37.767444Z",
     "start_time": "2019-05-29T02:11:37.757502Z"
    }
   },
   "outputs": [
    {
     "name": "stdout",
     "output_type": "stream",
     "text": [
      "Predict dog: [False, True, True, False, True, False, True, True, True]\n",
      "Actual dog : [False, False, True, True, False, True, False, True, True, True]\n"
     ]
    }
   ],
   "source": [
    "predict_is_dog = [logit > 0.5 for logit in predict_logits[:10]]\n",
    "actual_is_dog = [label > 0.5 for label in test_labels[:10]]\n",
    "print(\"Predict dog:\",predict_is_dog)\n",
    "print(\"Actual dog :\",actual_is_dog)"
   ]
  },
  {
   "cell_type": "code",
   "execution_count": null,
   "metadata": {},
   "outputs": [],
   "source": []
  }
 ],
 "metadata": {
  "kernelspec": {
   "display_name": "Python 3",
   "language": "python",
   "name": "python3"
  },
  "language_info": {
   "codemirror_mode": {
    "name": "ipython",
    "version": 3
   },
   "file_extension": ".py",
   "mimetype": "text/x-python",
   "name": "python",
   "nbconvert_exporter": "python",
   "pygments_lexer": "ipython3",
   "version": "3.5.2"
  },
  "toc": {
   "base_numbering": 1,
   "nav_menu": {},
   "number_sections": true,
   "sideBar": true,
   "skip_h1_title": false,
   "title_cell": "Table of Contents",
   "title_sidebar": "Contents",
   "toc_cell": false,
   "toc_position": {},
   "toc_section_display": true,
   "toc_window_display": false
  }
 },
 "nbformat": 4,
 "nbformat_minor": 2
}
