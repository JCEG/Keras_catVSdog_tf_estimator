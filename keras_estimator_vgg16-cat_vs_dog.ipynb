{
 "cells": [
  {
   "cell_type": "markdown",
   "metadata": {},
   "source": [
    "## [An Easy Guide to build new TensorFlow Datasets and Estimator with Keras Model](https://www.dlology.com/blog/an-easy-guide-to-build-new-tensorflow-datasets-and-estimator-with-keras-model/)\n",
    "Import packages,\n",
    "realize how we import keras from tensorflow \n",
    "\n",
    "`tensorflow.keras`\n"
   ]
  },
  {
   "cell_type": "code",
   "execution_count": 1,
   "metadata": {
    "ExecuteTime": {
     "end_time": "2019-05-29T02:21:37.348555Z",
     "start_time": "2019-05-29T02:21:34.063351Z"
    }
   },
   "outputs": [
    {
     "data": {
      "text/plain": [
       "'1.13.1'"
      ]
     },
     "execution_count": 1,
     "metadata": {},
     "output_type": "execute_result"
    }
   ],
   "source": [
    "from tensorflow.keras.applications.vgg16 import VGG16\n",
    "from tensorflow.keras import models\n",
    "from tensorflow.keras import layers\n",
    "from tensorflow.keras.preprocessing import image\n",
    "import numpy as np\n",
    "import tensorflow as tf\n",
    "from tensorflow import keras\n",
    "import numpy as np\n",
    "\n",
    "import os\n",
    "import shutil\n",
    "\n",
    "tf.__version__"
   ]
  },
  {
   "cell_type": "markdown",
   "metadata": {},
   "source": [
    "## Build Keras model\n",
    "We are leveraging the pre-trained VGG16 model's convolution layers. aka the \"convolutional base\" of the model. Then we add our own classifier fully connected layers to do binary classification(cat vs dog). \n",
    "\n",
    "Note that since we don't want to touch the parameters pre-trained in the \"convolutional base\", so we set them as not trainable. Want to go deeper how this model works? Check out this great [jupyter notebook](https://github.com/fchollet/deep-learning-with-python-notebooks/blob/master/5.3-using-a-pretrained-convnet.ipynb) by the creator of Keras."
   ]
  },
  {
   "cell_type": "code",
   "execution_count": 2,
   "metadata": {
    "ExecuteTime": {
     "end_time": "2019-05-29T02:21:39.282222Z",
     "start_time": "2019-05-29T02:21:37.351547Z"
    }
   },
   "outputs": [
    {
     "name": "stdout",
     "output_type": "stream",
     "text": [
      "WARNING:tensorflow:From c:\\users\\hasee\\appdata\\local\\programs\\python\\python35\\lib\\site-packages\\tensorflow\\python\\ops\\resource_variable_ops.py:435: colocate_with (from tensorflow.python.framework.ops) is deprecated and will be removed in a future version.\n",
      "Instructions for updating:\n",
      "Colocations handled automatically by placer.\n"
     ]
    }
   ],
   "source": [
    "conv_base = VGG16(weights='imagenet',\n",
    "                  include_top=False,\n",
    "                  input_shape=(150, 150, 3))\n",
    "\n",
    "model = models.Sequential()\n",
    "model.add(conv_base)\n",
    "model.add(layers.Flatten())\n",
    "model.add(layers.Dense(256, activation='relu'))\n",
    "model.add(layers.Dense(1, activation='sigmoid'))\n",
    "conv_base.trainable = False"
   ]
  },
  {
   "cell_type": "code",
   "execution_count": 3,
   "metadata": {
    "ExecuteTime": {
     "end_time": "2019-05-29T02:21:39.295190Z",
     "start_time": "2019-05-29T02:21:39.284218Z"
    }
   },
   "outputs": [
    {
     "name": "stdout",
     "output_type": "stream",
     "text": [
      "_________________________________________________________________\n",
      "Layer (type)                 Output Shape              Param #   \n",
      "=================================================================\n",
      "vgg16 (Model)                (None, 4, 4, 512)         14714688  \n",
      "_________________________________________________________________\n",
      "flatten (Flatten)            (None, 8192)              0         \n",
      "_________________________________________________________________\n",
      "dense (Dense)                (None, 256)               2097408   \n",
      "_________________________________________________________________\n",
      "dense_1 (Dense)              (None, 1)                 257       \n",
      "=================================================================\n",
      "Total params: 16,812,353\n",
      "Trainable params: 2,097,665\n",
      "Non-trainable params: 14,714,688\n",
      "_________________________________________________________________\n"
     ]
    }
   ],
   "source": [
    "model.summary()"
   ]
  },
  {
   "cell_type": "code",
   "execution_count": 4,
   "metadata": {
    "ExecuteTime": {
     "end_time": "2019-05-29T02:21:39.423846Z",
     "start_time": "2019-05-29T02:21:39.299180Z"
    }
   },
   "outputs": [],
   "source": [
    "model.compile(loss='binary_crossentropy',\n",
    "              optimizer=tf.keras.optimizers.RMSprop(lr=2e-5),\n",
    "              metrics=['acc'])"
   ]
  },
  {
   "cell_type": "markdown",
   "metadata": {},
   "source": [
    "## Keras model to TF estimator\n",
    "`model_dir` will be our location to store trained tensorflow models. Training progress can be viewed by TensorBoard.\n",
    "\n",
    "I found that I have to specify the full path, otherwise, Tensorflow will complain about it later during training."
   ]
  },
  {
   "cell_type": "code",
   "execution_count": 5,
   "metadata": {
    "ExecuteTime": {
     "end_time": "2019-05-29T02:21:44.246510Z",
     "start_time": "2019-05-29T02:21:39.425841Z"
    }
   },
   "outputs": [
    {
     "name": "stdout",
     "output_type": "stream",
     "text": [
      "model_dir:  E:\\SW_WS\\Python_SW\\Keras_catVSdog_tf_estimator\\models\\catvsdog\n",
      "INFO:tensorflow:Using default config.\n",
      "INFO:tensorflow:Using the Keras model provided.\n",
      "WARNING:tensorflow:From c:\\users\\hasee\\appdata\\local\\programs\\python\\python35\\lib\\site-packages\\tensorflow\\python\\ops\\math_ops.py:3066: to_int32 (from tensorflow.python.ops.math_ops) is deprecated and will be removed in a future version.\n",
      "Instructions for updating:\n",
      "Use tf.cast instead.\n",
      "INFO:tensorflow:Using config: {'_save_summary_steps': 100, '_keep_checkpoint_max': 5, '_session_config': allow_soft_placement: true\n",
      "graph_options {\n",
      "  rewrite_options {\n",
      "    meta_optimizer_iterations: ONE\n",
      "  }\n",
      "}\n",
      ", '_log_step_count_steps': 100, '_global_id_in_cluster': 0, '_eval_distribute': None, '_master': '', '_model_dir': 'E:\\\\SW_WS\\\\Python_SW\\\\Keras_catVSdog_tf_estimator\\\\models\\\\catvsdog', '_keep_checkpoint_every_n_hours': 10000, '_evaluation_master': '', '_is_chief': True, '_service': None, '_experimental_distribute': None, '_num_worker_replicas': 1, '_save_checkpoints_secs': 600, '_tf_random_seed': None, '_task_id': 0, '_device_fn': None, '_protocol': None, '_train_distribute': None, '_num_ps_replicas': 0, '_save_checkpoints_steps': None, '_cluster_spec': <tensorflow.python.training.server_lib.ClusterSpec object at 0x000002536030FE80>, '_task_type': 'worker'}\n"
     ]
    }
   ],
   "source": [
    "model_dir = os.path.join(os.getcwd(), \"models//catvsdog\").replace(\"//\", \"\\\\\")\n",
    "os.makedirs(model_dir, exist_ok=True)\n",
    "print(\"model_dir: \", model_dir)\n",
    "est_catvsdog = tf.keras.estimator.model_to_estimator(keras_model=model,\n",
    "                                                     model_dir=model_dir)"
   ]
  },
  {
   "cell_type": "markdown",
   "metadata": {},
   "source": [
    "The input_name is the model's input layer name, we will need it later when building Input function for your estimator. More on that in Input function section below."
   ]
  },
  {
   "cell_type": "code",
   "execution_count": 6,
   "metadata": {
    "ExecuteTime": {
     "end_time": "2019-05-29T02:21:44.258480Z",
     "start_time": "2019-05-29T02:21:44.248529Z"
    }
   },
   "outputs": [
    {
     "data": {
      "text/plain": [
       "'vgg16_input'"
      ]
     },
     "execution_count": 6,
     "metadata": {},
     "output_type": "execute_result"
    }
   ],
   "source": [
    "# input layer name\n",
    "input_name = model.input_names[0]\n",
    "input_name"
   ]
  },
  {
   "cell_type": "markdown",
   "metadata": {},
   "source": [
    "## Downloading the data\n",
    "\n",
    "The cats vs. dogs dataset was made available by Kaggle.com as part of a computer vision \n",
    "competition in late 2013. You can download the original dataset at \n",
    "https://www.kaggle.com/c/dogs-vs-cats/download/train.zip (you will need to create a Kaggle account if you don't already have one -- don't worry, the \n",
    "process is painless).\n",
    "\n",
    "After downloading and uncompressing it, we will create a new dataset containing three subsets: a training set with 1000 samples of each class, and a test set with 500 samples of each class."
   ]
  },
  {
   "cell_type": "code",
   "execution_count": 7,
   "metadata": {
    "ExecuteTime": {
     "end_time": "2019-05-29T02:21:44.274460Z",
     "start_time": "2019-05-29T02:21:44.261469Z"
    }
   },
   "outputs": [],
   "source": [
    "# The path to the directory where the original\n",
    "# dataset was uncompressed\n",
    "original_dataset_dir = 'E:\\\\Learning_Resources\\\\Deep_learning\\\\my_data_sets\\\\DATASETS_IMAGE\\\\dog_vs_cat\\\\train'\n",
    "\n",
    "# The directory where we will\n",
    "# store our smaller dataset\n",
    "base_dir = './data/dog_vs_cat_small'\n",
    "train_dir = os.path.join(base_dir, 'train')\n",
    "test_dir = os.path.join(base_dir, 'test')\n",
    "train_cats_dir = os.path.join(train_dir, 'cats')\n",
    "train_dogs_dir = os.path.join(train_dir, 'dogs')\n",
    "test_cats_dir = os.path.join(test_dir, 'cats')\n",
    "test_dogs_dir = os.path.join(test_dir, 'dogs')"
   ]
  },
  {
   "cell_type": "code",
   "execution_count": 8,
   "metadata": {
    "ExecuteTime": {
     "end_time": "2019-05-29T02:21:44.349235Z",
     "start_time": "2019-05-29T02:21:44.278423Z"
    }
   },
   "outputs": [],
   "source": [
    "if not os.path.isdir(train_dir) and not os.path.isdir(test_dir):\n",
    "    os.makedirs(base_dir, exist_ok=True)\n",
    "    # Directories for our training,\n",
    "    # validation and test splits\n",
    "    os.mkdir(train_dir)\n",
    "    os.mkdir(test_dir)\n",
    "    # Directory with our training cat pictures\n",
    "    os.mkdir(train_cats_dir)\n",
    "    # Directory with our training dog pictures\n",
    "    os.mkdir(train_dogs_dir)\n",
    "    # Directory with our validation cat pictures\n",
    "    os.mkdir(test_cats_dir)\n",
    "    # Directory with our validation dog pictures\n",
    "    os.mkdir(test_dogs_dir)\n",
    "    # Copy first 1000 cat images to train_cats_dir\n",
    "    fnames = ['cat.{}.jpg'.format(i) for i in range(1000)]\n",
    "    for fname in fnames:\n",
    "        src = os.path.join(original_dataset_dir, fname)\n",
    "        dst = os.path.join(train_cats_dir, fname)\n",
    "        shutil.copyfile(src, dst)\n",
    "    # Copy first 1000 dog images to train_dogs_dir\n",
    "    fnames = ['dog.{}.jpg'.format(i) for i in range(1000)]\n",
    "    for fname in fnames:\n",
    "        src = os.path.join(original_dataset_dir, fname)\n",
    "        dst = os.path.join(train_dogs_dir, fname)\n",
    "        shutil.copyfile(src, dst)\n",
    "\n",
    "    # Copy next 500 cat images to test_cats_dir\n",
    "    fnames = ['cat.{}.jpg'.format(i) for i in range(1500, 2000)]\n",
    "    for fname in fnames:\n",
    "        src = os.path.join(original_dataset_dir, fname)\n",
    "        dst = os.path.join(test_cats_dir, fname)\n",
    "        shutil.copyfile(src, dst)\n",
    "\n",
    "    # Copy next 500 dog images to test_dogs_dir\n",
    "    fnames = ['dog.{}.jpg'.format(i) for i in range(1500, 2000)]\n",
    "    for fname in fnames:\n",
    "        src = os.path.join(original_dataset_dir, fname)\n",
    "        dst = os.path.join(test_dogs_dir, fname)\n",
    "        shutil.copyfile(src, dst)"
   ]
  },
  {
   "cell_type": "markdown",
   "metadata": {},
   "source": [
    "As a sanity check, let's count how many pictures we have in each training split (train/test):"
   ]
  },
  {
   "cell_type": "code",
   "execution_count": 9,
   "metadata": {
    "ExecuteTime": {
     "end_time": "2019-05-29T02:21:44.368183Z",
     "start_time": "2019-05-29T02:21:44.351229Z"
    }
   },
   "outputs": [
    {
     "name": "stdout",
     "output_type": "stream",
     "text": [
      "total training cat images: 1000\n",
      "total training dog images: 1000\n",
      "total test cat images: 500\n",
      "total test dog images: 500\n"
     ]
    }
   ],
   "source": [
    "print('total training cat images:', len(os.listdir(train_cats_dir)))\n",
    "print('total training dog images:', len(os.listdir(train_dogs_dir)))\n",
    "print('total test cat images:', len(os.listdir(test_cats_dir)))\n",
    "print('total test dog images:', len(os.listdir(test_dogs_dir)))"
   ]
  },
  {
   "cell_type": "markdown",
   "metadata": {},
   "source": [
    "Function to shuffle images along with the labels"
   ]
  },
  {
   "cell_type": "code",
   "execution_count": 10,
   "metadata": {
    "ExecuteTime": {
     "end_time": "2019-05-29T02:21:44.379155Z",
     "start_time": "2019-05-29T02:21:44.371175Z"
    }
   },
   "outputs": [],
   "source": [
    "def unison_shuffled_copies(a, b):\n",
    "    a = np.array(a)\n",
    "    b = np.array(b)\n",
    "    assert len(a) == len(b)\n",
    "    p = np.random.permutation(len(a))\n",
    "    return a[p], b[p]"
   ]
  },
  {
   "cell_type": "markdown",
   "metadata": {},
   "source": [
    "Collect and shuffle image files with associated labels."
   ]
  },
  {
   "cell_type": "code",
   "execution_count": 11,
   "metadata": {
    "ExecuteTime": {
     "end_time": "2019-05-29T02:21:44.414091Z",
     "start_time": "2019-05-29T02:21:44.382146Z"
    }
   },
   "outputs": [],
   "source": [
    "CAT_LABEL = 0\n",
    "DOG_LABEL = 1\n",
    "train_cats = [os.path.join(train_cats_dir, file_name)\n",
    "              for file_name in os.listdir(train_cats_dir)]\n",
    "train_dogs = [os.path.join(train_dogs_dir, file_name)\n",
    "              for file_name in os.listdir(train_dogs_dir)]\n",
    "train_files = train_cats + train_dogs\n",
    "train_labels = [CAT_LABEL]*len(train_cats)+[DOG_LABEL]*len(train_dogs)\n",
    "train_files, train_labels = unison_shuffled_copies(train_files, train_labels)\n",
    "test_cats = [os.path.join(test_cats_dir, file_name)\n",
    "             for file_name in os.listdir(test_cats_dir)]\n",
    "test_dogs = [os.path.join(test_dogs_dir, file_name)\n",
    "             for file_name in os.listdir(test_dogs_dir)]\n",
    "test_files = test_cats + test_dogs\n",
    "test_labels = [CAT_LABEL]*len(test_cats)+[DOG_LABEL]*len(test_dogs)\n",
    "test_files, test_labels = unison_shuffled_copies(test_files, test_labels)"
   ]
  },
  {
   "cell_type": "markdown",
   "metadata": {},
   "source": [
    "Have a look at first 10 shuffled image files and labels."
   ]
  },
  {
   "cell_type": "code",
   "execution_count": 12,
   "metadata": {
    "ExecuteTime": {
     "end_time": "2019-05-29T02:21:44.424067Z",
     "start_time": "2019-05-29T02:21:44.416089Z"
    }
   },
   "outputs": [
    {
     "name": "stdout",
     "output_type": "stream",
     "text": [
      "['./data/dog_vs_cat_small\\\\train\\\\dogs\\\\dog.497.jpg'\n",
      " './data/dog_vs_cat_small\\\\train\\\\cats\\\\cat.931.jpg'\n",
      " './data/dog_vs_cat_small\\\\train\\\\cats\\\\cat.957.jpg'\n",
      " './data/dog_vs_cat_small\\\\train\\\\dogs\\\\dog.161.jpg'\n",
      " './data/dog_vs_cat_small\\\\train\\\\dogs\\\\dog.132.jpg'\n",
      " './data/dog_vs_cat_small\\\\train\\\\dogs\\\\dog.926.jpg'\n",
      " './data/dog_vs_cat_small\\\\train\\\\cats\\\\cat.998.jpg'\n",
      " './data/dog_vs_cat_small\\\\train\\\\dogs\\\\dog.948.jpg'\n",
      " './data/dog_vs_cat_small\\\\train\\\\dogs\\\\dog.192.jpg'\n",
      " './data/dog_vs_cat_small\\\\train\\\\cats\\\\cat.439.jpg']\n",
      "[1 0 0 1 1 1 0 1 1 0]\n"
     ]
    }
   ],
   "source": [
    "print(train_files[:10])\n",
    "print(train_labels[:10])"
   ]
  },
  {
   "cell_type": "markdown",
   "metadata": {},
   "source": [
    "## Input function\n",
    "When we train our model, we'll need a function that reads the input image files/labels and returns the image data and labels. Estimators require that you create a function of the following format:\n",
    "````\n",
    "def input_fn():\n",
    "    ...<code>...\n",
    "    return ({ 'input_1':[ImagesValues]},\n",
    "            [ImageTypeLogit])\n",
    "```\n",
    "The return value must be a two-element tuple organized as follows: :\n",
    "\n",
    "- The first element must be a dictionary in which each input feature is a key, and then a list of values for the training batch.\n",
    "- The second element is a list of labels for the training batch.\n",
    "### Arguments\n",
    "- **filenames**, an array of image file names\n",
    "- **labels=None**, an array of the image labels for the model. Set to None for inference\n",
    "- **perform_shuffle=False**, useful when training, reads batch_size records, then shuffles (randomizes) their order.\n",
    "- **repeat_count=1**, useful when training, repeat the input data several times for each epoch\n",
    "- **batch_size=1**, reads batch_size records at a time"
   ]
  },
  {
   "cell_type": "code",
   "execution_count": 13,
   "metadata": {
    "ExecuteTime": {
     "end_time": "2019-05-29T02:21:44.490856Z",
     "start_time": "2019-05-29T02:21:44.427027Z"
    }
   },
   "outputs": [],
   "source": [
    "def imgs_input_fn(filenames, labels=None, perform_shuffle=False, repeat_count=1, batch_size=1):\n",
    "    def _parse_function(filename, label):\n",
    "        image_string = tf.read_file(filename)\n",
    "        image = tf.image.decode_image(image_string, channels=3)\n",
    "        image.set_shape([None, None, None])\n",
    "        image = tf.image.resize_images(image, [150, 150])\n",
    "        image = tf.subtract(image, 116.779)  # Zero-center by mean pixel\n",
    "        image.set_shape([150, 150, 3])\n",
    "        image = tf.reverse(image, axis=[2])  # 'RGB'->'BGR'\n",
    "        d = dict(zip([input_name], [image])), label\n",
    "        return d\n",
    "    if labels is None:\n",
    "        labels = [0]*len(filenames)\n",
    "    labels = np.array(labels)\n",
    "    # Expand the shape of \"labels\" if necessory\n",
    "    if len(labels.shape) == 1:\n",
    "        labels = np.expand_dims(labels, axis=1)\n",
    "    filenames = tf.constant(filenames)\n",
    "    labels = tf.constant(labels)\n",
    "    labels = tf.cast(labels, tf.float32)\n",
    "    dataset = tf.data.Dataset.from_tensor_slices((filenames, labels))\n",
    "    dataset = dataset.map(_parse_function)\n",
    "    if perform_shuffle:\n",
    "        # Randomizes input using a window of 256 elements (read into memory)\n",
    "        dataset = dataset.shuffle(buffer_size=256)\n",
    "    dataset = dataset.repeat(repeat_count)  # Repeats dataset this # times\n",
    "    dataset = dataset.batch(batch_size)  # Batch size to use\n",
    "    iterator = dataset.make_one_shot_iterator()\n",
    "    batch_features, batch_labels = iterator.get_next()\n",
    "    return batch_features, batch_labels"
   ]
  },
  {
   "cell_type": "markdown",
   "metadata": {},
   "source": [
    "## Look at the input function output\n",
    "Looks like color channels 'RGB' has changed to 'BGR' and shape resized to (150, 150) correctly for our model. That is the input format the VGG16's \"convolutional base\" is expecting."
   ]
  },
  {
   "cell_type": "code",
   "execution_count": 14,
   "metadata": {
    "ExecuteTime": {
     "end_time": "2019-05-29T02:21:45.543579Z",
     "start_time": "2019-05-29T02:21:44.493847Z"
    }
   },
   "outputs": [
    {
     "name": "stdout",
     "output_type": "stream",
     "text": [
      "(20, 150, 150, 3)\n"
     ]
    },
    {
     "data": {
      "image/png": "[encoded data removed]",
      "text/plain": [
       "<PIL.Image.Image image mode=RGB size=150x150 at 0x254E3E9A128>"
      ]
     },
     "execution_count": 14,
     "metadata": {},
     "output_type": "execute_result"
    }
   ],
   "source": [
    "next_batch = imgs_input_fn(\n",
    "    test_files, labels=test_labels, perform_shuffle=True, batch_size=20)\n",
    "with tf.Session() as sess:\n",
    "    first_batch = sess.run(next_batch)\n",
    "x_d = first_batch[0][input_name]\n",
    "\n",
    "print(x_d.shape)\n",
    "img = image.array_to_img(x_d[8])\n",
    "img"
   ]
  },
  {
   "cell_type": "markdown",
   "metadata": {},
   "source": [
    "Here is the first batch's labels."
   ]
  },
  {
   "cell_type": "code",
   "execution_count": 15,
   "metadata": {
    "ExecuteTime": {
     "end_time": "2019-05-29T02:21:45.554548Z",
     "start_time": "2019-05-29T02:21:45.545576Z"
    }
   },
   "outputs": [
    {
     "data": {
      "text/plain": [
       "array([[1.],\n",
       "       [1.],\n",
       "       [1.],\n",
       "       [0.],\n",
       "       [1.],\n",
       "       [0.],\n",
       "       [1.],\n",
       "       [1.],\n",
       "       [1.],\n",
       "       [1.],\n",
       "       [1.],\n",
       "       [1.],\n",
       "       [1.],\n",
       "       [1.],\n",
       "       [1.],\n",
       "       [1.],\n",
       "       [1.],\n",
       "       [0.],\n",
       "       [1.],\n",
       "       [1.]], dtype=float32)"
      ]
     },
     "execution_count": 15,
     "metadata": {},
     "output_type": "execute_result"
    }
   ],
   "source": [
    "first_batch[1]"
   ]
  },
  {
   "cell_type": "markdown",
   "metadata": {},
   "source": [
    "## Training the model\n",
    "Estimators require an `input_fn` with no arguments, so we create a function with no arguments using lambda. Suggested you should only attempt it if you have access to a GPU, it only takes couple minutes."
   ]
  },
  {
   "cell_type": "code",
   "execution_count": 16,
   "metadata": {
    "ExecuteTime": {
     "end_time": "2019-05-29T02:22:49.384886Z",
     "start_time": "2019-05-29T02:21:45.557543Z"
    },
    "scrolled": false
   },
   "outputs": [
    {
     "name": "stdout",
     "output_type": "stream",
     "text": [
      "INFO:tensorflow:Calling model_fn.\n",
      "INFO:tensorflow:Done calling model_fn.\n",
      "INFO:tensorflow:Warm-starting with WarmStartSettings: WarmStartSettings(ckpt_to_initialize_from='E:\\\\SW_WS\\\\Python_SW\\\\Keras_catVSdog_tf_estimator\\\\models\\\\catvsdog\\\\keras\\\\keras_model.ckpt', vars_to_warm_start='.*', var_name_to_vocab_info={}, var_name_to_prev_var_name={})\n",
      "INFO:tensorflow:Warm-starting from: ('E:\\\\SW_WS\\\\Python_SW\\\\Keras_catVSdog_tf_estimator\\\\models\\\\catvsdog\\\\keras\\\\keras_model.ckpt',)\n",
      "INFO:tensorflow:Warm-starting variable: training/RMSprop/Variable_17; prev_var_name: Unchanged\n",
      "INFO:tensorflow:Warm-starting variable: training/RMSprop/Variable_13; prev_var_name: Unchanged\n",
      "INFO:tensorflow:Warm-starting variable: block1_conv2/bias; prev_var_name: Unchanged\n",
      "INFO:tensorflow:Warm-starting variable: block3_conv1/kernel; prev_var_name: Unchanged\n",
      "INFO:tensorflow:Warm-starting variable: training/RMSprop/Variable_25; prev_var_name: Unchanged\n",
      "INFO:tensorflow:Warm-starting variable: block5_conv1/bias; prev_var_name: Unchanged\n",
      "INFO:tensorflow:Warm-starting variable: block4_conv3/kernel; prev_var_name: Unchanged\n",
      "INFO:tensorflow:Warm-starting variable: dense_1/kernel; prev_var_name: Unchanged\n",
      "INFO:tensorflow:Warm-starting variable: training/RMSprop/Variable_4; prev_var_name: Unchanged\n",
      "INFO:tensorflow:Warm-starting variable: training/RMSprop/Variable_22; prev_var_name: Unchanged\n",
      "INFO:tensorflow:Warm-starting variable: block2_conv2/bias; prev_var_name: Unchanged\n",
      "INFO:tensorflow:Warm-starting variable: block5_conv1/kernel; prev_var_name: Unchanged\n",
      "INFO:tensorflow:Warm-starting variable: training/RMSprop/Variable; prev_var_name: Unchanged\n",
      "INFO:tensorflow:Warm-starting variable: training/RMSprop/Variable_26; prev_var_name: Unchanged\n",
      "INFO:tensorflow:Warm-starting variable: dense/kernel; prev_var_name: Unchanged\n",
      "INFO:tensorflow:Warm-starting variable: block3_conv3/kernel; prev_var_name: Unchanged\n",
      "INFO:tensorflow:Warm-starting variable: block4_conv2/bias; prev_var_name: Unchanged\n",
      "INFO:tensorflow:Warm-starting variable: training/RMSprop/Variable_2; prev_var_name: Unchanged\n",
      "INFO:tensorflow:Warm-starting variable: training/RMSprop/Variable_16; prev_var_name: Unchanged\n",
      "INFO:tensorflow:Warm-starting variable: training/RMSprop/Variable_21; prev_var_name: Unchanged\n",
      "INFO:tensorflow:Warm-starting variable: training/RMSprop/Variable_7; prev_var_name: Unchanged\n",
      "INFO:tensorflow:Warm-starting variable: block3_conv1/bias; prev_var_name: Unchanged\n",
      "INFO:tensorflow:Warm-starting variable: training/RMSprop/Variable_1; prev_var_name: Unchanged\n",
      "INFO:tensorflow:Warm-starting variable: block3_conv2/kernel; prev_var_name: Unchanged\n",
      "INFO:tensorflow:Warm-starting variable: block1_conv2/kernel; prev_var_name: Unchanged\n",
      "INFO:tensorflow:Warm-starting variable: training/RMSprop/Variable_6; prev_var_name: Unchanged\n",
      "INFO:tensorflow:Warm-starting variable: block5_conv3/kernel; prev_var_name: Unchanged\n",
      "INFO:tensorflow:Warm-starting variable: block5_conv2/kernel; prev_var_name: Unchanged\n",
      "INFO:tensorflow:Warm-starting variable: dense_1/bias; prev_var_name: Unchanged\n",
      "INFO:tensorflow:Warm-starting variable: training/RMSprop/Variable_27; prev_var_name: Unchanged\n",
      "INFO:tensorflow:Warm-starting variable: block1_conv1/bias; prev_var_name: Unchanged\n",
      "INFO:tensorflow:Warm-starting variable: block5_conv3/bias; prev_var_name: Unchanged\n",
      "INFO:tensorflow:Warm-starting variable: block3_conv2/bias; prev_var_name: Unchanged\n",
      "INFO:tensorflow:Warm-starting variable: training/RMSprop/Variable_19; prev_var_name: Unchanged\n",
      "INFO:tensorflow:Warm-starting variable: block1_conv1/kernel; prev_var_name: Unchanged\n",
      "INFO:tensorflow:Warm-starting variable: training/RMSprop/Variable_24; prev_var_name: Unchanged\n",
      "INFO:tensorflow:Warm-starting variable: block2_conv1/kernel; prev_var_name: Unchanged\n",
      "INFO:tensorflow:Warm-starting variable: block3_conv3/bias; prev_var_name: Unchanged\n",
      "INFO:tensorflow:Warm-starting variable: training/RMSprop/Variable_14; prev_var_name: Unchanged\n",
      "INFO:tensorflow:Warm-starting variable: training/RMSprop/Variable_9; prev_var_name: Unchanged\n",
      "INFO:tensorflow:Warm-starting variable: training/RMSprop/Variable_23; prev_var_name: Unchanged\n",
      "INFO:tensorflow:Warm-starting variable: training/RMSprop/Variable_5; prev_var_name: Unchanged\n",
      "INFO:tensorflow:Warm-starting variable: training/RMSprop/Variable_3; prev_var_name: Unchanged\n",
      "INFO:tensorflow:Warm-starting variable: training/RMSprop/Variable_18; prev_var_name: Unchanged\n",
      "INFO:tensorflow:Warm-starting variable: RMSprop/rho; prev_var_name: Unchanged\n",
      "INFO:tensorflow:Warm-starting variable: training/RMSprop/Variable_20; prev_var_name: Unchanged\n",
      "INFO:tensorflow:Warm-starting variable: training/RMSprop/Variable_12; prev_var_name: Unchanged\n",
      "INFO:tensorflow:Warm-starting variable: RMSprop/lr; prev_var_name: Unchanged\n",
      "INFO:tensorflow:Warm-starting variable: training/RMSprop/Variable_29; prev_var_name: Unchanged\n",
      "INFO:tensorflow:Warm-starting variable: training/RMSprop/Variable_11; prev_var_name: Unchanged\n",
      "INFO:tensorflow:Warm-starting variable: training/RMSprop/Variable_8; prev_var_name: Unchanged\n",
      "INFO:tensorflow:Warm-starting variable: block2_conv2/kernel; prev_var_name: Unchanged\n",
      "INFO:tensorflow:Warm-starting variable: training/RMSprop/Variable_15; prev_var_name: Unchanged\n",
      "INFO:tensorflow:Warm-starting variable: block4_conv1/kernel; prev_var_name: Unchanged\n",
      "INFO:tensorflow:Warm-starting variable: block4_conv1/bias; prev_var_name: Unchanged\n",
      "INFO:tensorflow:Warm-starting variable: training/RMSprop/Variable_28; prev_var_name: Unchanged\n",
      "INFO:tensorflow:Warm-starting variable: block4_conv2/kernel; prev_var_name: Unchanged\n",
      "INFO:tensorflow:Warm-starting variable: block5_conv2/bias; prev_var_name: Unchanged\n",
      "INFO:tensorflow:Warm-starting variable: RMSprop/iterations; prev_var_name: Unchanged\n",
      "INFO:tensorflow:Warm-starting variable: dense/bias; prev_var_name: Unchanged\n",
      "INFO:tensorflow:Warm-starting variable: training/RMSprop/Variable_10; prev_var_name: Unchanged\n",
      "INFO:tensorflow:Warm-starting variable: block4_conv3/bias; prev_var_name: Unchanged\n",
      "INFO:tensorflow:Warm-starting variable: RMSprop/decay; prev_var_name: Unchanged\n",
      "INFO:tensorflow:Warm-starting variable: block2_conv1/bias; prev_var_name: Unchanged\n",
      "INFO:tensorflow:Create CheckpointSaverHook.\n",
      "INFO:tensorflow:Graph was finalized.\n",
      "INFO:tensorflow:Running local_init_op.\n",
      "INFO:tensorflow:Done running local_init_op.\n",
      "INFO:tensorflow:Saving checkpoints for 0 into E:\\SW_WS\\Python_SW\\Keras_catVSdog_tf_estimator\\models\\catvsdog\\model.ckpt.\n",
      "INFO:tensorflow:loss = 7.3966494, step = 1\n",
      "INFO:tensorflow:global_step/sec: 4.58161\n",
      "INFO:tensorflow:loss = 0.12398346, step = 101 (21.827 sec)\n",
      "INFO:tensorflow:global_step/sec: 4.87272\n",
      "INFO:tensorflow:loss = 0.00072469667, step = 201 (20.522 sec)\n",
      "INFO:tensorflow:Saving checkpoints for 251 into E:\\SW_WS\\Python_SW\\Keras_catVSdog_tf_estimator\\models\\catvsdog\\model.ckpt.\n",
      "INFO:tensorflow:Loss for final step: 0.0121774515.\n"
     ]
    },
    {
     "data": {
      "text/plain": [
       "<tensorflow_estimator.python.estimator.estimator.Estimator at 0x25377940358>"
      ]
     },
     "execution_count": 16,
     "metadata": {},
     "output_type": "execute_result"
    }
   ],
   "source": [
    "# Train our model, use the previously function imgs_input_fn\n",
    "# Input to training is a file with training example\n",
    "# Stop training after \"repeat_count\" iterations of train data (epochs)\n",
    "est_catvsdog.train(\n",
    "    input_fn=lambda: imgs_input_fn(test_files,\n",
    "                                   labels=test_labels,\n",
    "                                   perform_shuffle=True,\n",
    "                                   repeat_count=5,\n",
    "                                   batch_size=20))"
   ]
  },
  {
   "cell_type": "markdown",
   "metadata": {},
   "source": [
    "## Evaluate\n",
    "Evaluate our model using the examples contained in test_files and test_labels\n",
    "\n",
    "Return value will contain evaluation_metrics such as: loss & average_loss"
   ]
  },
  {
   "cell_type": "code",
   "execution_count": 17,
   "metadata": {
    "ExecuteTime": {
     "end_time": "2019-05-29T02:22:58.104363Z",
     "start_time": "2019-05-29T02:22:49.387878Z"
    }
   },
   "outputs": [
    {
     "name": "stdout",
     "output_type": "stream",
     "text": [
      "INFO:tensorflow:Calling model_fn.\n",
      "INFO:tensorflow:Done calling model_fn.\n",
      "WARNING:tensorflow:From c:\\users\\hasee\\appdata\\local\\programs\\python\\python35\\lib\\site-packages\\tensorflow\\python\\ops\\metrics_impl.py:363: to_float (from tensorflow.python.ops.math_ops) is deprecated and will be removed in a future version.\n",
      "Instructions for updating:\n",
      "Use tf.cast instead.\n",
      "INFO:tensorflow:Starting evaluation at 2019-05-29T02:22:49Z\n",
      "INFO:tensorflow:Graph was finalized.\n",
      "WARNING:tensorflow:From c:\\users\\hasee\\appdata\\local\\programs\\python\\python35\\lib\\site-packages\\tensorflow\\python\\training\\saver.py:1266: checkpoint_exists (from tensorflow.python.training.checkpoint_management) is deprecated and will be removed in a future version.\n",
      "Instructions for updating:\n",
      "Use standard file APIs to check for files with this prefix.\n",
      "INFO:tensorflow:Restoring parameters from E:\\SW_WS\\Python_SW\\Keras_catVSdog_tf_estimator\\models\\catvsdog\\model.ckpt-251\n",
      "INFO:tensorflow:Running local_init_op.\n",
      "INFO:tensorflow:Done running local_init_op.\n",
      "INFO:tensorflow:Finished evaluation at 2019-05-29-02:22:57\n",
      "INFO:tensorflow:Saving dict for global step 251: binary_accuracy = 0.977, global_step = 251, loss = 0.08478442\n",
      "INFO:tensorflow:Saving 'checkpoint_path' summary for global step 251: E:\\SW_WS\\Python_SW\\Keras_catVSdog_tf_estimator\\models\\catvsdog\\model.ckpt-251\n",
      "Evaluation results\n",
      "   global_step, was: 251\n",
      "   loss, was: 0.08478441834449768\n",
      "   binary_accuracy, was: 0.9769999980926514\n"
     ]
    }
   ],
   "source": [
    "evaluate_results = est_catvsdog.evaluate(\n",
    "    input_fn=lambda: imgs_input_fn(test_files,\n",
    "                                   labels=test_labels,\n",
    "                                   perform_shuffle=False,\n",
    "                                   batch_size=1))\n",
    "print(\"Evaluation results\")\n",
    "for key in evaluate_results:\n",
    "    print(\"   {}, was: {}\".format(key, evaluate_results[key]))"
   ]
  },
  {
   "cell_type": "markdown",
   "metadata": {},
   "source": [
    "## Predict\n",
    "To predict we can set the `labels` to None because that is what we will be predicting.\n",
    "\n",
    "Here we only predict the first 10 images in the test_files."
   ]
  },
  {
   "cell_type": "code",
   "execution_count": 18,
   "metadata": {
    "ExecuteTime": {
     "end_time": "2019-05-29T02:22:58.120321Z",
     "start_time": "2019-05-29T02:22:58.110350Z"
    }
   },
   "outputs": [],
   "source": [
    "predict_results = est_catvsdog.predict(\n",
    "    input_fn=lambda: imgs_input_fn(test_files[:10],\n",
    "                                   labels=None,\n",
    "                                   perform_shuffle=False,\n",
    "                                   batch_size=10))"
   ]
  },
  {
   "cell_type": "code",
   "execution_count": 19,
   "metadata": {
    "ExecuteTime": {
     "end_time": "2019-05-29T02:22:59.610342Z",
     "start_time": "2019-05-29T02:22:58.126304Z"
    }
   },
   "outputs": [
    {
     "name": "stdout",
     "output_type": "stream",
     "text": [
      "INFO:tensorflow:Calling model_fn.\n",
      "INFO:tensorflow:Done calling model_fn.\n",
      "INFO:tensorflow:Graph was finalized.\n",
      "INFO:tensorflow:Restoring parameters from E:\\SW_WS\\Python_SW\\Keras_catVSdog_tf_estimator\\models\\catvsdog\\model.ckpt-251\n",
      "INFO:tensorflow:Running local_init_op.\n",
      "INFO:tensorflow:Done running local_init_op.\n"
     ]
    }
   ],
   "source": [
    "predict_logits = []\n",
    "for prediction in predict_results:\n",
    "    output_name = list(prediction.keys())[-1]\n",
    "    predict_logits.append(prediction[output_name][0])"
   ]
  },
  {
   "cell_type": "markdown",
   "metadata": {},
   "source": [
    "### Check the prediction result\n",
    "The model correctly classified all 10 images."
   ]
  },
  {
   "cell_type": "code",
   "execution_count": 20,
   "metadata": {
    "ExecuteTime": {
     "end_time": "2019-05-29T02:22:59.621315Z",
     "start_time": "2019-05-29T02:22:59.612338Z"
    }
   },
   "outputs": [
    {
     "name": "stdout",
     "output_type": "stream",
     "text": [
      "Predict dog: [True, True, False, True, False, False, True, False, False, False]\n",
      "Actual dog : [True, True, False, True, False, False, True, False, False, False]\n"
     ]
    }
   ],
   "source": [
    "predict_is_dog = [logit > 0.5 for logit in predict_logits]\n",
    "actual_is_dog = [label > 0.5 for label in test_labels[:10]]\n",
    "print(\"Predict dog:\", predict_is_dog)\n",
    "print(\"Actual dog :\", actual_is_dog)"
   ]
  },
  {
   "cell_type": "markdown",
   "metadata": {},
   "source": [
    "### tf.estimator.train_and_evaluate"
   ]
  },
  {
   "cell_type": "markdown",
   "metadata": {},
   "source": [
    "Since TensorFlow release 1.4 also introduces the utility function **tf.estimator.train_and_evaluate**, which simplifies training, evaluation, and exporting Estimator models. This function enables distributed execution for training and evaluation, while still supporting local execution.\n",
    "\n",
    "Notice that the train was build on previous training result when we call the `est_catvsdog.train()`"
   ]
  },
  {
   "cell_type": "code",
   "execution_count": 24,
   "metadata": {
    "ExecuteTime": {
     "end_time": "2019-05-29T02:29:52.725832Z",
     "start_time": "2019-05-29T02:28:50.588166Z"
    },
    "scrolled": false
   },
   "outputs": [
    {
     "name": "stdout",
     "output_type": "stream",
     "text": [
      "INFO:tensorflow:Not using Distribute Coordinator.\n",
      "INFO:tensorflow:Running training and evaluation locally (non-distributed).\n",
      "INFO:tensorflow:Start train and evaluate loop. The evaluate will happen after every checkpoint. Checkpoint frequency is determined based on RunConfig arguments: save_checkpoints_steps None or save_checkpoints_secs 600.\n",
      "INFO:tensorflow:Calling model_fn.\n",
      "INFO:tensorflow:Done calling model_fn.\n",
      "INFO:tensorflow:Warm-starting with WarmStartSettings: WarmStartSettings(ckpt_to_initialize_from='E:\\\\SW_WS\\\\Python_SW\\\\Keras_catVSdog_tf_estimator\\\\models\\\\catvsdog\\\\keras\\\\keras_model.ckpt', vars_to_warm_start='.*', var_name_to_vocab_info={}, var_name_to_prev_var_name={})\n",
      "INFO:tensorflow:Warm-starting from: ('E:\\\\SW_WS\\\\Python_SW\\\\Keras_catVSdog_tf_estimator\\\\models\\\\catvsdog\\\\keras\\\\keras_model.ckpt',)\n",
      "INFO:tensorflow:Warm-starting variable: training/RMSprop/Variable_17; prev_var_name: Unchanged\n",
      "INFO:tensorflow:Warm-starting variable: training/RMSprop/Variable_13; prev_var_name: Unchanged\n",
      "INFO:tensorflow:Warm-starting variable: block1_conv2/bias; prev_var_name: Unchanged\n",
      "INFO:tensorflow:Warm-starting variable: block3_conv1/kernel; prev_var_name: Unchanged\n",
      "INFO:tensorflow:Warm-starting variable: training/RMSprop/Variable_25; prev_var_name: Unchanged\n",
      "INFO:tensorflow:Warm-starting variable: block5_conv1/bias; prev_var_name: Unchanged\n",
      "INFO:tensorflow:Warm-starting variable: block4_conv3/kernel; prev_var_name: Unchanged\n",
      "INFO:tensorflow:Warm-starting variable: dense_1/kernel; prev_var_name: Unchanged\n",
      "INFO:tensorflow:Warm-starting variable: training/RMSprop/Variable_4; prev_var_name: Unchanged\n",
      "INFO:tensorflow:Warm-starting variable: training/RMSprop/Variable_22; prev_var_name: Unchanged\n",
      "INFO:tensorflow:Warm-starting variable: block2_conv2/bias; prev_var_name: Unchanged\n",
      "INFO:tensorflow:Warm-starting variable: block5_conv1/kernel; prev_var_name: Unchanged\n",
      "INFO:tensorflow:Warm-starting variable: training/RMSprop/Variable; prev_var_name: Unchanged\n",
      "INFO:tensorflow:Warm-starting variable: training/RMSprop/Variable_26; prev_var_name: Unchanged\n",
      "INFO:tensorflow:Warm-starting variable: dense/kernel; prev_var_name: Unchanged\n",
      "INFO:tensorflow:Warm-starting variable: block3_conv3/kernel; prev_var_name: Unchanged\n",
      "INFO:tensorflow:Warm-starting variable: block4_conv2/bias; prev_var_name: Unchanged\n",
      "INFO:tensorflow:Warm-starting variable: training/RMSprop/Variable_2; prev_var_name: Unchanged\n",
      "INFO:tensorflow:Warm-starting variable: training/RMSprop/Variable_16; prev_var_name: Unchanged\n",
      "INFO:tensorflow:Warm-starting variable: training/RMSprop/Variable_21; prev_var_name: Unchanged\n",
      "INFO:tensorflow:Warm-starting variable: training/RMSprop/Variable_7; prev_var_name: Unchanged\n",
      "INFO:tensorflow:Warm-starting variable: block3_conv1/bias; prev_var_name: Unchanged\n",
      "INFO:tensorflow:Warm-starting variable: training/RMSprop/Variable_1; prev_var_name: Unchanged\n",
      "INFO:tensorflow:Warm-starting variable: block3_conv2/kernel; prev_var_name: Unchanged\n",
      "INFO:tensorflow:Warm-starting variable: block1_conv2/kernel; prev_var_name: Unchanged\n",
      "INFO:tensorflow:Warm-starting variable: training/RMSprop/Variable_6; prev_var_name: Unchanged\n",
      "INFO:tensorflow:Warm-starting variable: block5_conv3/kernel; prev_var_name: Unchanged\n",
      "INFO:tensorflow:Warm-starting variable: block5_conv2/kernel; prev_var_name: Unchanged\n",
      "INFO:tensorflow:Warm-starting variable: dense_1/bias; prev_var_name: Unchanged\n",
      "INFO:tensorflow:Warm-starting variable: training/RMSprop/Variable_27; prev_var_name: Unchanged\n",
      "INFO:tensorflow:Warm-starting variable: block1_conv1/bias; prev_var_name: Unchanged\n",
      "INFO:tensorflow:Warm-starting variable: block5_conv3/bias; prev_var_name: Unchanged\n",
      "INFO:tensorflow:Warm-starting variable: block3_conv2/bias; prev_var_name: Unchanged\n",
      "INFO:tensorflow:Warm-starting variable: training/RMSprop/Variable_19; prev_var_name: Unchanged\n",
      "INFO:tensorflow:Warm-starting variable: block1_conv1/kernel; prev_var_name: Unchanged\n",
      "INFO:tensorflow:Warm-starting variable: training/RMSprop/Variable_24; prev_var_name: Unchanged\n",
      "INFO:tensorflow:Warm-starting variable: block2_conv1/kernel; prev_var_name: Unchanged\n",
      "INFO:tensorflow:Warm-starting variable: block3_conv3/bias; prev_var_name: Unchanged\n",
      "INFO:tensorflow:Warm-starting variable: training/RMSprop/Variable_14; prev_var_name: Unchanged\n",
      "INFO:tensorflow:Warm-starting variable: training/RMSprop/Variable_9; prev_var_name: Unchanged\n",
      "INFO:tensorflow:Warm-starting variable: training/RMSprop/Variable_23; prev_var_name: Unchanged\n",
      "INFO:tensorflow:Warm-starting variable: training/RMSprop/Variable_5; prev_var_name: Unchanged\n",
      "INFO:tensorflow:Warm-starting variable: training/RMSprop/Variable_3; prev_var_name: Unchanged\n",
      "INFO:tensorflow:Warm-starting variable: training/RMSprop/Variable_18; prev_var_name: Unchanged\n",
      "INFO:tensorflow:Warm-starting variable: RMSprop/rho; prev_var_name: Unchanged\n",
      "INFO:tensorflow:Warm-starting variable: training/RMSprop/Variable_20; prev_var_name: Unchanged\n",
      "INFO:tensorflow:Warm-starting variable: training/RMSprop/Variable_12; prev_var_name: Unchanged\n",
      "INFO:tensorflow:Warm-starting variable: RMSprop/lr; prev_var_name: Unchanged\n",
      "INFO:tensorflow:Warm-starting variable: training/RMSprop/Variable_29; prev_var_name: Unchanged\n",
      "INFO:tensorflow:Warm-starting variable: training/RMSprop/Variable_11; prev_var_name: Unchanged\n",
      "INFO:tensorflow:Warm-starting variable: training/RMSprop/Variable_8; prev_var_name: Unchanged\n",
      "INFO:tensorflow:Warm-starting variable: block2_conv2/kernel; prev_var_name: Unchanged\n",
      "INFO:tensorflow:Warm-starting variable: training/RMSprop/Variable_15; prev_var_name: Unchanged\n",
      "INFO:tensorflow:Warm-starting variable: block4_conv1/kernel; prev_var_name: Unchanged\n",
      "INFO:tensorflow:Warm-starting variable: block4_conv1/bias; prev_var_name: Unchanged\n",
      "INFO:tensorflow:Warm-starting variable: training/RMSprop/Variable_28; prev_var_name: Unchanged\n",
      "INFO:tensorflow:Warm-starting variable: block4_conv2/kernel; prev_var_name: Unchanged\n",
      "INFO:tensorflow:Warm-starting variable: block5_conv2/bias; prev_var_name: Unchanged\n",
      "INFO:tensorflow:Warm-starting variable: RMSprop/iterations; prev_var_name: Unchanged\n",
      "INFO:tensorflow:Warm-starting variable: dense/bias; prev_var_name: Unchanged\n",
      "INFO:tensorflow:Warm-starting variable: training/RMSprop/Variable_10; prev_var_name: Unchanged\n",
      "INFO:tensorflow:Warm-starting variable: block4_conv3/bias; prev_var_name: Unchanged\n",
      "INFO:tensorflow:Warm-starting variable: RMSprop/decay; prev_var_name: Unchanged\n",
      "INFO:tensorflow:Warm-starting variable: block2_conv1/bias; prev_var_name: Unchanged\n",
      "INFO:tensorflow:Create CheckpointSaverHook.\n",
      "INFO:tensorflow:Graph was finalized.\n",
      "INFO:tensorflow:Restoring parameters from E:\\SW_WS\\Python_SW\\Keras_catVSdog_tf_estimator\\models\\catvsdog\\model.ckpt-751\n",
      "INFO:tensorflow:Running local_init_op.\n",
      "INFO:tensorflow:Done running local_init_op.\n",
      "INFO:tensorflow:Saving checkpoints for 751 into E:\\SW_WS\\Python_SW\\Keras_catVSdog_tf_estimator\\models\\catvsdog\\model.ckpt.\n",
      "INFO:tensorflow:loss = 1.0480234e-07, step = 752\n",
      "INFO:tensorflow:global_step/sec: 4.66269\n",
      "INFO:tensorflow:loss = 1.0768374e-07, step = 852 (21.448 sec)\n",
      "INFO:tensorflow:global_step/sec: 4.91651\n",
      "INFO:tensorflow:loss = 1.1056513e-07, step = 952 (20.341 sec)\n",
      "INFO:tensorflow:Saving checkpoints for 1000 into E:\\SW_WS\\Python_SW\\Keras_catVSdog_tf_estimator\\models\\catvsdog\\model.ckpt.\n",
      "INFO:tensorflow:Calling model_fn.\n",
      "INFO:tensorflow:Done calling model_fn.\n",
      "INFO:tensorflow:Starting evaluation at 2019-05-29T02:29:51Z\n",
      "INFO:tensorflow:Graph was finalized.\n",
      "INFO:tensorflow:Restoring parameters from E:\\SW_WS\\Python_SW\\Keras_catVSdog_tf_estimator\\models\\catvsdog\\model.ckpt-1000\n",
      "INFO:tensorflow:Running local_init_op.\n",
      "INFO:tensorflow:Done running local_init_op.\n",
      "INFO:tensorflow:Evaluation [10/100]\n",
      "INFO:tensorflow:Evaluation [20/100]\n",
      "INFO:tensorflow:Evaluation [30/100]\n",
      "INFO:tensorflow:Evaluation [40/100]\n",
      "INFO:tensorflow:Evaluation [50/100]\n",
      "INFO:tensorflow:Evaluation [60/100]\n",
      "INFO:tensorflow:Evaluation [70/100]\n",
      "INFO:tensorflow:Evaluation [80/100]\n",
      "INFO:tensorflow:Evaluation [90/100]\n",
      "INFO:tensorflow:Evaluation [100/100]\n",
      "INFO:tensorflow:Finished evaluation at 2019-05-29-02:29:52\n",
      "INFO:tensorflow:Saving dict for global step 1000: binary_accuracy = 1.0, global_step = 1000, loss = 1.09220416e-07\n"
     ]
    },
    {
     "name": "stdout",
     "output_type": "stream",
     "text": [
      "INFO:tensorflow:Saving 'checkpoint_path' summary for global step 1000: E:\\SW_WS\\Python_SW\\Keras_catVSdog_tf_estimator\\models\\catvsdog\\model.ckpt-1000\n",
      "INFO:tensorflow:Loss for final step: 1.1248606e-07.\n",
      "--- 62.12470269203186 seconds ---\n"
     ]
    }
   ],
   "source": [
    "# Train for another 500 steps.\n",
    "train_spec = tf.estimator.TrainSpec(input_fn=lambda: imgs_input_fn(test_files,\n",
    "                                                                   labels=test_labels,\n",
    "                                                                   perform_shuffle=True,\n",
    "                                                                   repeat_count=5,\n",
    "                                                                   batch_size=20),\n",
    "                                    max_steps=500 + 500)\n",
    "eval_spec = tf.estimator.EvalSpec(input_fn=lambda: imgs_input_fn(test_files,\n",
    "                                                                 labels=test_labels,\n",
    "                                                                 perform_shuffle=False,\n",
    "                                                                 batch_size=1))\n",
    "import time\n",
    "start_time = time.time()\n",
    "tf.estimator.train_and_evaluate(est_catvsdog, train_spec, eval_spec)\n",
    "print(\"--- %s seconds ---\" % (time.time() - start_time))"
   ]
  },
  {
   "cell_type": "code",
   "execution_count": null,
   "metadata": {},
   "outputs": [],
   "source": []
  }
 ],
 "metadata": {
  "kernelspec": {
   "display_name": "Python 3",
   "language": "python",
   "name": "python3"
  },
  "language_info": {
   "codemirror_mode": {
    "name": "ipython",
    "version": 3
   },
   "file_extension": ".py",
   "mimetype": "text/x-python",
   "name": "python",
   "nbconvert_exporter": "python",
   "pygments_lexer": "ipython3",
   "version": "3.5.2"
  },
  "toc": {
   "base_numbering": 1,
   "nav_menu": {},
   "number_sections": true,
   "sideBar": true,
   "skip_h1_title": false,
   "title_cell": "Table of Contents",
   "title_sidebar": "Contents",
   "toc_cell": false,
   "toc_position": {},
   "toc_section_display": true,
   "toc_window_display": false
  },
  "varInspector": {
   "cols": {
    "lenName": 16,
    "lenType": 16,
    "lenVar": 40
   },
   "kernels_config": {
    "python": {
     "delete_cmd_postfix": "",
     "delete_cmd_prefix": "del ",
     "library": "var_list.py",
     "varRefreshCmd": "print(var_dic_list())"
    },
    "r": {
     "delete_cmd_postfix": ") ",
     "delete_cmd_prefix": "rm(",
     "library": "var_list.r",
     "varRefreshCmd": "cat(var_dic_list()) "
    }
   },
   "types_to_exclude": [
    "module",
    "function",
    "builtin_function_or_method",
    "instance",
    "_Feature"
   ],
   "window_display": false
  }
 },
 "nbformat": 4,
 "nbformat_minor": 2
}
